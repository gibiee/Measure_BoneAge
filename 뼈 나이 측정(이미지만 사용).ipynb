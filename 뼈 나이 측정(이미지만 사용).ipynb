{
  "nbformat": 4,
  "nbformat_minor": 0,
  "metadata": {
    "colab": {
      "name": "뼈 나이 측정 (이미지만 사용)",
      "provenance": [],
      "collapsed_sections": [],
      "toc_visible": true,
      "machine_shape": "hm",
      "mount_file_id": "10X1jybExHUQmra8F9qsihT7ln4srNeMR",
      "authorship_tag": "ABX9TyOxC0LVF0HtQxpGKMcL6dCa",
      "include_colab_link": true
    },
    "kernelspec": {
      "name": "python3",
      "display_name": "Python 3"
    },
    "accelerator": "GPU"
  },
  "cells": [
    {
      "cell_type": "markdown",
      "metadata": {
        "id": "view-in-github",
        "colab_type": "text"
      },
      "source": [
        "<a href=\"https://colab.research.google.com/github/gibiee/Measure_BoneAge/blob/master/%EB%BC%88%20%EB%82%98%EC%9D%B4%20%EC%B8%A1%EC%A0%95(%EC%9D%B4%EB%AF%B8%EC%A7%80%EB%A7%8C%20%EC%82%AC%EC%9A%A9).ipynb\" target=\"_parent\"><img src=\"https://colab.research.google.com/assets/colab-badge.svg\" alt=\"Open In Colab\"/></a>"
      ]
    },
    {
      "cell_type": "code",
      "metadata": {
        "id": "Fr2rMMVFnaZh",
        "colab_type": "code",
        "colab": {
          "base_uri": "https://localhost:8080/",
          "height": 35
        },
        "outputId": "422a23fa-0478-4180-b65f-08f1995fa709"
      },
      "source": [
        "!unzip -q \"./drive/My Drive/양재 팀프로젝트/뼈 나이 측정/BoneAge_Dataset.zip\" -d dataset\n",
        "!ls"
      ],
      "execution_count": 1,
      "outputs": [
        {
          "output_type": "stream",
          "text": [
            "dataset  drive\tsample_data\n"
          ],
          "name": "stdout"
        }
      ]
    },
    {
      "cell_type": "code",
      "metadata": {
        "id": "MUI2rI_KoEU9",
        "colab_type": "code",
        "colab": {}
      },
      "source": [
        "import tensorflow as tf\n",
        "\n",
        "# model = tf.keras.applications.Xception(weights=None, include_top=True, input_shape=(224,224,1), classes=1, classifier_activation=None)\n",
        "model = tf.keras.applications.InceptionV3(weights=None, include_top=True, input_shape=(224,224,1), classes=1, classifier_activation=None)\n",
        "\n",
        "# print(model.summary())"
      ],
      "execution_count": 2,
      "outputs": []
    },
    {
      "cell_type": "code",
      "metadata": {
        "id": "-bE-v5UR1QWq",
        "colab_type": "code",
        "colab": {}
      },
      "source": [
        "# # 각 레이어에서 어떤 activation function을 쓰는지 확인\n",
        "# for layer in model.layers :\n",
        "#     try :\n",
        "#         print(layer.activation)\n",
        "#     except:\n",
        "#         print(\"Activation function 없음\")"
      ],
      "execution_count": null,
      "outputs": []
    },
    {
      "cell_type": "code",
      "metadata": {
        "id": "w7t7mzeEoEa1",
        "colab_type": "code",
        "colab": {}
      },
      "source": [
        "model.compile(loss='mae', optimizer='adam')"
      ],
      "execution_count": 3,
      "outputs": []
    },
    {
      "cell_type": "code",
      "metadata": {
        "id": "7AcAOJ3PveDq",
        "colab_type": "code",
        "colab": {
          "base_uri": "https://localhost:8080/",
          "height": 204
        },
        "outputId": "e860e3a9-b09b-488a-ff02-be0b39629d18"
      },
      "source": [
        "import pandas as pd\n",
        "\n",
        "csv_train = pd.read_csv(\"./dataset/train_csv.csv\")\n",
        "csv_train.head()"
      ],
      "execution_count": 4,
      "outputs": [
        {
          "output_type": "execute_result",
          "data": {
            "text/html": [
              "<div>\n",
              "<style scoped>\n",
              "    .dataframe tbody tr th:only-of-type {\n",
              "        vertical-align: middle;\n",
              "    }\n",
              "\n",
              "    .dataframe tbody tr th {\n",
              "        vertical-align: top;\n",
              "    }\n",
              "\n",
              "    .dataframe thead th {\n",
              "        text-align: right;\n",
              "    }\n",
              "</style>\n",
              "<table border=\"1\" class=\"dataframe\">\n",
              "  <thead>\n",
              "    <tr style=\"text-align: right;\">\n",
              "      <th></th>\n",
              "      <th>id</th>\n",
              "      <th>boneage</th>\n",
              "      <th>male</th>\n",
              "    </tr>\n",
              "  </thead>\n",
              "  <tbody>\n",
              "    <tr>\n",
              "      <th>0</th>\n",
              "      <td>1377</td>\n",
              "      <td>180</td>\n",
              "      <td>False</td>\n",
              "    </tr>\n",
              "    <tr>\n",
              "      <th>1</th>\n",
              "      <td>1378</td>\n",
              "      <td>12</td>\n",
              "      <td>False</td>\n",
              "    </tr>\n",
              "    <tr>\n",
              "      <th>2</th>\n",
              "      <td>1379</td>\n",
              "      <td>94</td>\n",
              "      <td>False</td>\n",
              "    </tr>\n",
              "    <tr>\n",
              "      <th>3</th>\n",
              "      <td>1380</td>\n",
              "      <td>120</td>\n",
              "      <td>True</td>\n",
              "    </tr>\n",
              "    <tr>\n",
              "      <th>4</th>\n",
              "      <td>1381</td>\n",
              "      <td>82</td>\n",
              "      <td>False</td>\n",
              "    </tr>\n",
              "  </tbody>\n",
              "</table>\n",
              "</div>"
            ],
            "text/plain": [
              "     id  boneage   male\n",
              "0  1377      180  False\n",
              "1  1378       12  False\n",
              "2  1379       94  False\n",
              "3  1380      120   True\n",
              "4  1381       82  False"
            ]
          },
          "metadata": {
            "tags": []
          },
          "execution_count": 4
        }
      ]
    },
    {
      "cell_type": "code",
      "metadata": {
        "id": "Cra-072-xYW_",
        "colab_type": "code",
        "colab": {
          "base_uri": "https://localhost:8080/",
          "height": 204
        },
        "outputId": "b2bf5807-161b-4abd-9e76-129ecb23b820"
      },
      "source": [
        "for i in range(len(csv_train)) :\n",
        "    csv_train.loc[i,\"id\"] = f\"{csv_train['id'][i]}.png\"\n",
        "    \n",
        "csv_train.head()"
      ],
      "execution_count": 5,
      "outputs": [
        {
          "output_type": "execute_result",
          "data": {
            "text/html": [
              "<div>\n",
              "<style scoped>\n",
              "    .dataframe tbody tr th:only-of-type {\n",
              "        vertical-align: middle;\n",
              "    }\n",
              "\n",
              "    .dataframe tbody tr th {\n",
              "        vertical-align: top;\n",
              "    }\n",
              "\n",
              "    .dataframe thead th {\n",
              "        text-align: right;\n",
              "    }\n",
              "</style>\n",
              "<table border=\"1\" class=\"dataframe\">\n",
              "  <thead>\n",
              "    <tr style=\"text-align: right;\">\n",
              "      <th></th>\n",
              "      <th>id</th>\n",
              "      <th>boneage</th>\n",
              "      <th>male</th>\n",
              "    </tr>\n",
              "  </thead>\n",
              "  <tbody>\n",
              "    <tr>\n",
              "      <th>0</th>\n",
              "      <td>1377.png</td>\n",
              "      <td>180</td>\n",
              "      <td>False</td>\n",
              "    </tr>\n",
              "    <tr>\n",
              "      <th>1</th>\n",
              "      <td>1378.png</td>\n",
              "      <td>12</td>\n",
              "      <td>False</td>\n",
              "    </tr>\n",
              "    <tr>\n",
              "      <th>2</th>\n",
              "      <td>1379.png</td>\n",
              "      <td>94</td>\n",
              "      <td>False</td>\n",
              "    </tr>\n",
              "    <tr>\n",
              "      <th>3</th>\n",
              "      <td>1380.png</td>\n",
              "      <td>120</td>\n",
              "      <td>True</td>\n",
              "    </tr>\n",
              "    <tr>\n",
              "      <th>4</th>\n",
              "      <td>1381.png</td>\n",
              "      <td>82</td>\n",
              "      <td>False</td>\n",
              "    </tr>\n",
              "  </tbody>\n",
              "</table>\n",
              "</div>"
            ],
            "text/plain": [
              "         id  boneage   male\n",
              "0  1377.png      180  False\n",
              "1  1378.png       12  False\n",
              "2  1379.png       94  False\n",
              "3  1380.png      120   True\n",
              "4  1381.png       82  False"
            ]
          },
          "metadata": {
            "tags": []
          },
          "execution_count": 5
        }
      ]
    },
    {
      "cell_type": "code",
      "metadata": {
        "id": "lZgdGfAkoEic",
        "colab_type": "code",
        "colab": {
          "base_uri": "https://localhost:8080/",
          "height": 53
        },
        "outputId": "73411a4c-2fe7-49e5-e26f-138faaa45105"
      },
      "source": [
        "from tensorflow.keras.preprocessing.image import ImageDataGenerator\n",
        "\n",
        "datagen = ImageDataGenerator(rescale=1./255, validation_split=0.2)\n",
        "train_generator = datagen.flow_from_dataframe(csv_train, directory=\"./dataset/train/\", x_col='id', y_col='boneage',\n",
        "                                               target_size=(224, 224), color_mode='grayscale', class_mode='raw', subset='training')\n",
        "\n",
        "valid_generator = datagen.flow_from_dataframe(csv_train, directory=\"./dataset/train/\", x_col='id', y_col='boneage',\n",
        "                                               target_size=(224, 224), color_mode='grayscale', class_mode='raw', subset='validation', shuffle=False)\n",
        "\n",
        "# test_generator = datagen.flow_from_dataframe(csv_test, directory=\"./dataset/test/\", x_col='id', y_col='boneage',\n",
        "#                                               color_mode='grayscale', class_mode='raw')"
      ],
      "execution_count": 6,
      "outputs": [
        {
          "output_type": "stream",
          "text": [
            "Found 10089 validated image filenames.\n",
            "Found 2522 validated image filenames.\n"
          ],
          "name": "stdout"
        }
      ]
    },
    {
      "cell_type": "code",
      "metadata": {
        "id": "SPhjaUwruF4P",
        "colab_type": "code",
        "colab": {
          "base_uri": "https://localhost:8080/",
          "height": 1000
        },
        "outputId": "412ffdd2-e16e-4a3a-ffd1-43bedbf8dfe0"
      },
      "source": [
        "checkpoint = tf.keras.callbacks.ModelCheckpoint(monitor='val_loss', save_best_only=True,\n",
        "                                                filepath=\"./drive/My Drive/양재 팀프로젝트/뼈 나이 측정/checkpoint.h5\")\n",
        "early_stopping = tf.keras.callbacks.EarlyStopping(monitor='val_loss', patience=10) # 조기종료 콜백함수 정의\n",
        "\n",
        "history = model.fit_generator(train_generator, validation_data=valid_generator, epochs=100, callbacks=[checkpoint, early_stopping])"
      ],
      "execution_count": 7,
      "outputs": [
        {
          "output_type": "stream",
          "text": [
            "WARNING:tensorflow:From <ipython-input-7-776be134e0b1>:5: Model.fit_generator (from tensorflow.python.keras.engine.training) is deprecated and will be removed in a future version.\n",
            "Instructions for updating:\n",
            "Please use Model.fit, which supports generators.\n",
            "Epoch 1/100\n",
            "316/316 [==============================] - ETA: 0s - loss: 43.8624WARNING:tensorflow:From /usr/local/lib/python3.6/dist-packages/tensorflow/python/training/tracking/tracking.py:111: Model.state_updates (from tensorflow.python.keras.engine.training) is deprecated and will be removed in a future version.\n",
            "Instructions for updating:\n",
            "This property should not be used in TensorFlow 2.0, as updates are applied automatically.\n",
            "WARNING:tensorflow:From /usr/local/lib/python3.6/dist-packages/tensorflow/python/training/tracking/tracking.py:111: Layer.updates (from tensorflow.python.keras.engine.base_layer) is deprecated and will be removed in a future version.\n",
            "Instructions for updating:\n",
            "This property should not be used in TensorFlow 2.0, as updates are applied automatically.\n",
            "INFO:tensorflow:Assets written to: ./drive/My Drive/양재 팀프로젝트/뼈 나이 측정/checkpoint/assets\n",
            "316/316 [==============================] - 413s 1s/step - loss: 43.8624 - val_loss: 36.9460\n",
            "Epoch 2/100\n",
            "316/316 [==============================] - 354s 1s/step - loss: 22.4659 - val_loss: 41.0777\n",
            "Epoch 3/100\n",
            "316/316 [==============================] - 340s 1s/step - loss: 19.2707 - val_loss: 67.4142\n",
            "Epoch 4/100\n",
            "316/316 [==============================] - 333s 1s/step - loss: 16.8633 - val_loss: 47.6241\n",
            "Epoch 5/100\n",
            "316/316 [==============================] - ETA: 0s - loss: 15.4725INFO:tensorflow:Assets written to: ./drive/My Drive/양재 팀프로젝트/뼈 나이 측정/checkpoint/assets\n",
            "316/316 [==============================] - 362s 1s/step - loss: 15.4725 - val_loss: 33.8524\n",
            "Epoch 6/100\n",
            "316/316 [==============================] - ETA: 0s - loss: 14.7133INFO:tensorflow:Assets written to: ./drive/My Drive/양재 팀프로젝트/뼈 나이 측정/checkpoint/assets\n",
            "316/316 [==============================] - 362s 1s/step - loss: 14.7133 - val_loss: 32.7322\n",
            "Epoch 7/100\n",
            "316/316 [==============================] - 332s 1s/step - loss: 14.3872 - val_loss: 33.2239\n",
            "Epoch 8/100\n",
            "316/316 [==============================] - ETA: 0s - loss: 13.5260INFO:tensorflow:Assets written to: ./drive/My Drive/양재 팀프로젝트/뼈 나이 측정/checkpoint/assets\n",
            "316/316 [==============================] - 364s 1s/step - loss: 13.5260 - val_loss: 30.6300\n",
            "Epoch 9/100\n",
            "316/316 [==============================] - 330s 1s/step - loss: 13.3551 - val_loss: 32.3663\n",
            "Epoch 10/100\n",
            "316/316 [==============================] - 331s 1s/step - loss: 12.8286 - val_loss: 39.3722\n",
            "Epoch 11/100\n",
            "316/316 [==============================] - ETA: 0s - loss: 12.3831INFO:tensorflow:Assets written to: ./drive/My Drive/양재 팀프로젝트/뼈 나이 측정/checkpoint/assets\n",
            "316/316 [==============================] - 362s 1s/step - loss: 12.3831 - val_loss: 28.2059\n",
            "Epoch 12/100\n",
            "316/316 [==============================] - ETA: 0s - loss: 12.2619INFO:tensorflow:Assets written to: ./drive/My Drive/양재 팀프로젝트/뼈 나이 측정/checkpoint/assets\n",
            "316/316 [==============================] - 362s 1s/step - loss: 12.2619 - val_loss: 23.7334\n",
            "Epoch 13/100\n",
            "316/316 [==============================] - 333s 1s/step - loss: 11.9896 - val_loss: 24.2437\n",
            "Epoch 14/100\n",
            "316/316 [==============================] - 330s 1s/step - loss: 11.7308 - val_loss: 26.4786\n",
            "Epoch 15/100\n",
            "316/316 [==============================] - 329s 1s/step - loss: 11.5051 - val_loss: 24.0710\n",
            "Epoch 16/100\n",
            "316/316 [==============================] - ETA: 0s - loss: 11.4450INFO:tensorflow:Assets written to: ./drive/My Drive/양재 팀프로젝트/뼈 나이 측정/checkpoint/assets\n",
            "316/316 [==============================] - 359s 1s/step - loss: 11.4450 - val_loss: 20.7940\n",
            "Epoch 17/100\n",
            "316/316 [==============================] - 331s 1s/step - loss: 11.1185 - val_loss: 23.0787\n",
            "Epoch 18/100\n",
            "316/316 [==============================] - 330s 1s/step - loss: 10.7057 - val_loss: 25.8569\n",
            "Epoch 19/100\n",
            "316/316 [==============================] - ETA: 0s - loss: 10.8139INFO:tensorflow:Assets written to: ./drive/My Drive/양재 팀프로젝트/뼈 나이 측정/checkpoint/assets\n",
            "316/316 [==============================] - 364s 1s/step - loss: 10.8139 - val_loss: 19.8434\n",
            "Epoch 20/100\n",
            "316/316 [==============================] - 332s 1s/step - loss: 10.5266 - val_loss: 22.0444\n",
            "Epoch 21/100\n",
            "316/316 [==============================] - 329s 1s/step - loss: 10.1566 - val_loss: 19.9932\n",
            "Epoch 22/100\n",
            "316/316 [==============================] - 327s 1s/step - loss: 10.0456 - val_loss: 22.1794\n",
            "Epoch 23/100\n",
            "316/316 [==============================] - ETA: 0s - loss: 9.5137INFO:tensorflow:Assets written to: ./drive/My Drive/양재 팀프로젝트/뼈 나이 측정/checkpoint/assets\n",
            "316/316 [==============================] - 367s 1s/step - loss: 9.5137 - val_loss: 19.8169\n",
            "Epoch 24/100\n",
            "316/316 [==============================] - 334s 1s/step - loss: 9.6562 - val_loss: 21.0571\n",
            "Epoch 25/100\n",
            "316/316 [==============================] - ETA: 0s - loss: 9.2622INFO:tensorflow:Assets written to: ./drive/My Drive/양재 팀프로젝트/뼈 나이 측정/checkpoint/assets\n",
            "316/316 [==============================] - 366s 1s/step - loss: 9.2622 - val_loss: 18.0358\n",
            "Epoch 26/100\n",
            "316/316 [==============================] - ETA: 0s - loss: 8.9219INFO:tensorflow:Assets written to: ./drive/My Drive/양재 팀프로젝트/뼈 나이 측정/checkpoint/assets\n",
            "316/316 [==============================] - 364s 1s/step - loss: 8.9219 - val_loss: 16.5637\n",
            "Epoch 27/100\n",
            "316/316 [==============================] - 331s 1s/step - loss: 8.8459 - val_loss: 20.9248\n",
            "Epoch 28/100\n",
            "316/316 [==============================] - 333s 1s/step - loss: 8.7126 - val_loss: 17.8416\n",
            "Epoch 29/100\n",
            "316/316 [==============================] - 332s 1s/step - loss: 8.6004 - val_loss: 26.5691\n",
            "Epoch 30/100\n",
            "316/316 [==============================] - 337s 1s/step - loss: 8.4894 - val_loss: 19.8886\n",
            "Epoch 31/100\n",
            "316/316 [==============================] - 335s 1s/step - loss: 8.1743 - val_loss: 18.6575\n",
            "Epoch 32/100\n",
            "316/316 [==============================] - 332s 1s/step - loss: 7.8313 - val_loss: 17.4519\n",
            "Epoch 33/100\n",
            "316/316 [==============================] - 332s 1s/step - loss: 7.5739 - val_loss: 20.7655\n",
            "Epoch 34/100\n",
            "316/316 [==============================] - 337s 1s/step - loss: 7.3462 - val_loss: 21.2664\n",
            "Epoch 35/100\n",
            "316/316 [==============================] - 340s 1s/step - loss: 7.2444 - val_loss: 18.8692\n",
            "Epoch 36/100\n",
            "316/316 [==============================] - 340s 1s/step - loss: 7.3415 - val_loss: 16.8451\n"
          ],
          "name": "stdout"
        }
      ]
    },
    {
      "cell_type": "code",
      "metadata": {
        "id": "TGbJbosP0WRX",
        "colab_type": "code",
        "colab": {
          "base_uri": "https://localhost:8080/",
          "height": 268
        },
        "outputId": "3759cbd8-c22d-4a68-f733-a63ae639d04a"
      },
      "source": [
        "# 학습 과정에서의 loss와 val_loss 시각화\n",
        "import matplotlib.pyplot as plt\n",
        "\n",
        "plt.plot(history.history['loss'])                                                                                                                                                                                                                                                                                                                                                                                                                                                                                                                                                                                                                                                                                                                                                                                                                                                                                                                                                                                                                                                                                                                                                                                                                                                                                                                                                                                                                                                                                                                                                                                                                                                                                                                                                                                                                                                                                                                                                                                                                                                                                                                                                                                                                                                                                                                                                                                                                                                                                                                                                         \n",
        "plt.plot(history.history['val_loss'])\n",
        "plt.legend(['loss', 'val_loss'])\n",
        "plt.show()"
      ],
      "execution_count": 8,
      "outputs": [
        {
          "output_type": "display_data",
          "data": {
            "image/png": "[encoded data removed]",
            "text/plain": [
              "<Figure size 432x288 with 1 Axes>"
            ]
          },
          "metadata": {
            "tags": [],
            "needs_background": "light"
          }
        }
      ]
    },
    {
      "cell_type": "code",
      "metadata": {
        "id": "RYw_KN9Bg85E",
        "colab_type": "code",
        "colab": {}
      },
      "source": [
        "# print(model.metrics_names)\n",
        "# model.evaluate_generator(valid_generator)"
      ],
      "execution_count": null,
      "outputs": []
    },
    {
      "cell_type": "code",
      "metadata": {
        "id": "MgI42uRz93RK",
        "colab_type": "code",
        "colab": {
          "base_uri": "https://localhost:8080/",
          "height": 723
        },
        "outputId": "3786e028-f335-4a06-f8af-4540dec64fc4"
      },
      "source": [
        "# 예측값과 정답값을 비교\n",
        "load_model = tf.keras.models.load_model(\"./drive/My Drive/양재 팀프로젝트/뼈 나이 측정/checkpoint.h5\")\n",
        "\n",
        "predict = load_model.predict_generator(valid_generator).flatten()\n",
        "\n",
        "compare = pd.DataFrame({\"id\" : valid_generator.filenames,\n",
        "                        \"예측\" : predict,\n",
        "                        \"정답\" : valid_generator.labels})\n",
        "compare.head(20)"
      ],
      "execution_count": 9,
      "outputs": [
        {
          "output_type": "stream",
          "text": [
            "WARNING:tensorflow:From <ipython-input-9-afed19304182>:4: Model.predict_generator (from tensorflow.python.keras.engine.training) is deprecated and will be removed in a future version.\n",
            "Instructions for updating:\n",
            "Please use Model.predict, which supports generators.\n"
          ],
          "name": "stdout"
        },
        {
          "output_type": "execute_result",
          "data": {
            "text/html": [
              "<div>\n",
              "<style scoped>\n",
              "    .dataframe tbody tr th:only-of-type {\n",
              "        vertical-align: middle;\n",
              "    }\n",
              "\n",
              "    .dataframe tbody tr th {\n",
              "        vertical-align: top;\n",
              "    }\n",
              "\n",
              "    .dataframe thead th {\n",
              "        text-align: right;\n",
              "    }\n",
              "</style>\n",
              "<table border=\"1\" class=\"dataframe\">\n",
              "  <thead>\n",
              "    <tr style=\"text-align: right;\">\n",
              "      <th></th>\n",
              "      <th>id</th>\n",
              "      <th>예측</th>\n",
              "      <th>정답</th>\n",
              "    </tr>\n",
              "  </thead>\n",
              "  <tbody>\n",
              "    <tr>\n",
              "      <th>0</th>\n",
              "      <td>1377.png</td>\n",
              "      <td>219.340897</td>\n",
              "      <td>180</td>\n",
              "    </tr>\n",
              "    <tr>\n",
              "      <th>1</th>\n",
              "      <td>1378.png</td>\n",
              "      <td>58.574917</td>\n",
              "      <td>12</td>\n",
              "    </tr>\n",
              "    <tr>\n",
              "      <th>2</th>\n",
              "      <td>1379.png</td>\n",
              "      <td>134.329346</td>\n",
              "      <td>94</td>\n",
              "    </tr>\n",
              "    <tr>\n",
              "      <th>3</th>\n",
              "      <td>1380.png</td>\n",
              "      <td>170.277374</td>\n",
              "      <td>120</td>\n",
              "    </tr>\n",
              "    <tr>\n",
              "      <th>4</th>\n",
              "      <td>1381.png</td>\n",
              "      <td>67.160378</td>\n",
              "      <td>82</td>\n",
              "    </tr>\n",
              "    <tr>\n",
              "      <th>5</th>\n",
              "      <td>1382.png</td>\n",
              "      <td>145.077469</td>\n",
              "      <td>138</td>\n",
              "    </tr>\n",
              "    <tr>\n",
              "      <th>6</th>\n",
              "      <td>1383.png</td>\n",
              "      <td>154.963150</td>\n",
              "      <td>150</td>\n",
              "    </tr>\n",
              "    <tr>\n",
              "      <th>7</th>\n",
              "      <td>1384.png</td>\n",
              "      <td>153.818405</td>\n",
              "      <td>156</td>\n",
              "    </tr>\n",
              "    <tr>\n",
              "      <th>8</th>\n",
              "      <td>1385.png</td>\n",
              "      <td>35.961021</td>\n",
              "      <td>36</td>\n",
              "    </tr>\n",
              "    <tr>\n",
              "      <th>9</th>\n",
              "      <td>1387.png</td>\n",
              "      <td>137.022186</td>\n",
              "      <td>138</td>\n",
              "    </tr>\n",
              "    <tr>\n",
              "      <th>10</th>\n",
              "      <td>1388.png</td>\n",
              "      <td>127.342812</td>\n",
              "      <td>126</td>\n",
              "    </tr>\n",
              "    <tr>\n",
              "      <th>11</th>\n",
              "      <td>1389.png</td>\n",
              "      <td>142.464859</td>\n",
              "      <td>138</td>\n",
              "    </tr>\n",
              "    <tr>\n",
              "      <th>12</th>\n",
              "      <td>1390.png</td>\n",
              "      <td>163.260437</td>\n",
              "      <td>156</td>\n",
              "    </tr>\n",
              "    <tr>\n",
              "      <th>13</th>\n",
              "      <td>1391.png</td>\n",
              "      <td>188.063416</td>\n",
              "      <td>180</td>\n",
              "    </tr>\n",
              "    <tr>\n",
              "      <th>14</th>\n",
              "      <td>1393.png</td>\n",
              "      <td>158.062653</td>\n",
              "      <td>132</td>\n",
              "    </tr>\n",
              "    <tr>\n",
              "      <th>15</th>\n",
              "      <td>1394.png</td>\n",
              "      <td>84.753197</td>\n",
              "      <td>57</td>\n",
              "    </tr>\n",
              "    <tr>\n",
              "      <th>16</th>\n",
              "      <td>1395.png</td>\n",
              "      <td>128.090744</td>\n",
              "      <td>120</td>\n",
              "    </tr>\n",
              "    <tr>\n",
              "      <th>17</th>\n",
              "      <td>1396.png</td>\n",
              "      <td>179.542023</td>\n",
              "      <td>188</td>\n",
              "    </tr>\n",
              "    <tr>\n",
              "      <th>18</th>\n",
              "      <td>1398.png</td>\n",
              "      <td>61.962349</td>\n",
              "      <td>4</td>\n",
              "    </tr>\n",
              "    <tr>\n",
              "      <th>19</th>\n",
              "      <td>1399.png</td>\n",
              "      <td>58.948215</td>\n",
              "      <td>36</td>\n",
              "    </tr>\n",
              "  </tbody>\n",
              "</table>\n",
              "</div>"
            ],
            "text/plain": [
              "          id          예측   정답\n",
              "0   1377.png  219.340897  180\n",
              "1   1378.png   58.574917   12\n",
              "2   1379.png  134.329346   94\n",
              "3   1380.png  170.277374  120\n",
              "4   1381.png   67.160378   82\n",
              "5   1382.png  145.077469  138\n",
              "6   1383.png  154.963150  150\n",
              "7   1384.png  153.818405  156\n",
              "8   1385.png   35.961021   36\n",
              "9   1387.png  137.022186  138\n",
              "10  1388.png  127.342812  126\n",
              "11  1389.png  142.464859  138\n",
              "12  1390.png  163.260437  156\n",
              "13  1391.png  188.063416  180\n",
              "14  1393.png  158.062653  132\n",
              "15  1394.png   84.753197   57\n",
              "16  1395.png  128.090744  120\n",
              "17  1396.png  179.542023  188\n",
              "18  1398.png   61.962349    4\n",
              "19  1399.png   58.948215   36"
            ]
          },
          "metadata": {
            "tags": []
          },
          "execution_count": 9
        }
      ]
    },
    {
      "cell_type": "code",
      "metadata": {
        "id": "7R2nPQRkl_Yg",
        "colab_type": "code",
        "colab": {
          "base_uri": "https://localhost:8080/",
          "height": 279
        },
        "outputId": "48da993a-4c41-4716-8798-9fa57dcd5840"
      },
      "source": [
        "# 최종 결과값과 예측값 비교 시각화\n",
        "import matplotlib.pyplot as plt\n",
        "\n",
        "plt.scatter(valid_generator.labels, predict, color='b', s=3)\n",
        "plt.plot(valid_generator.labels, valid_generator.labels, 'r')\n",
        "plt.xlabel(\"Answer\")\n",
        "plt.ylabel(\"Prediction\")\n",
        "plt.show()"
      ],
      "execution_count": 10,
      "outputs": [
        {
          "output_type": "display_data",
          "data": {
            "image/png": "[encoded data removed]",
            "text/plain": [
              "<Figure size 432x288 with 1 Axes>"
            ]
          },
          "metadata": {
            "tags": [],
            "needs_background": "light"
          }
        }
      ]
    },
    {
      "cell_type": "code",
      "metadata": {
        "id": "IVZUzkulpj6m",
        "colab_type": "code",
        "colab": {}
      },
      "source": [
        "# import matplotlib.pyplot as plt\n",
        "\n",
        "# x = [10, 20, 30, 40, 50] # 정답\n",
        "# y = [11, 23, 28, 38, 55] # 예측\n",
        "\n",
        "# plt.scatter(x, y, color='b')\n",
        "# plt.plot(x, x, 'r')\n",
        "# plt.xlabel(\"Answer\")\n",
        "# plt.ylabel(\"Prediction\")\n",
        "# plt.show()"
      ],
      "execution_count": null,
      "outputs": []
    }
  ]
}