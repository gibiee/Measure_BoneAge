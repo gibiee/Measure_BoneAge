{
  "nbformat": 4,
  "nbformat_minor": 0,
  "metadata": {
    "colab": {
      "name": "뼈 나이 측정 (Female 전용)",
      "provenance": [],
      "collapsed_sections": [],
      "machine_shape": "hm",
      "include_colab_link": true
    },
    "kernelspec": {
      "name": "python3",
      "display_name": "Python 3"
    },
    "accelerator": "GPU"
  },
  "cells": [
    {
      "cell_type": "markdown",
      "metadata": {
        "id": "view-in-github",
        "colab_type": "text"
      },
      "source": [
        "<a href=\"https://colab.research.google.com/github/gibiee/Measure_BoneAge/blob/master/%EB%BC%88%20%EB%82%98%EC%9D%B4%20%EC%B8%A1%EC%A0%95(Female%20%EC%A0%84%EC%9A%A9).ipynb\" target=\"_parent\"><img src=\"https://colab.research.google.com/assets/colab-badge.svg\" alt=\"Open In Colab\"/></a>"
      ]
    },
    {
      "cell_type": "code",
      "metadata": {
        "id": "jLJ3qe2WKLIX",
        "colab_type": "code",
        "colab": {}
      },
      "source": [
        "from google.colab import drive\n",
        "drive.mount('/content/drive')"
      ],
      "execution_count": null,
      "outputs": []
    },
    {
      "cell_type": "code",
      "metadata": {
        "id": "GW1KZsqX2veH",
        "colab_type": "code",
        "colab": {
          "base_uri": "https://localhost:8080/",
          "height": 35
        },
        "outputId": "adb34369-e50d-4154-e85c-9be8926b8540"
      },
      "source": [
        "!unzip -q \"./drive/My Drive/양재 팀프로젝트/뼈 나이 측정/BoneAge_Dataset.zip\" -d dataset\n",
        "!ls"
      ],
      "execution_count": null,
      "outputs": [
        {
          "output_type": "stream",
          "text": [
            "dataset  drive\tsample_data\n"
          ],
          "name": "stdout"
        }
      ]
    },
    {
      "cell_type": "code",
      "metadata": {
        "id": "MUI2rI_KoEU9",
        "colab_type": "code",
        "colab": {}
      },
      "source": [
        "import tensorflow as tf\n",
        "\n",
        "# female_model = tf.keras.applications.Xception(weights=None, include_top=True, input_shape=(224,224,1), classes=1, classifier_activation=None)\n",
        "female_model = tf.keras.applications.InceptionV3(weights=None, include_top=True, input_shape=(224,224,1), classes=1, classifier_activation=None)\n",
        "\n",
        "# print(model.summary())"
      ],
      "execution_count": null,
      "outputs": []
    },
    {
      "cell_type": "code",
      "metadata": {
        "id": "-bE-v5UR1QWq",
        "colab_type": "code",
        "colab": {}
      },
      "source": [
        "'''\n",
        "# 각 레이어에서 어떤 activation function을 쓰는지 확인\n",
        "for layer in model.layers :\n",
        "    try :\n",
        "        print(layer.activation)\n",
        "    except:\n",
        "        print(\"Activation function 없음\")\n",
        "'''"
      ],
      "execution_count": null,
      "outputs": []
    },
    {
      "cell_type": "code",
      "metadata": {
        "id": "w7t7mzeEoEa1",
        "colab_type": "code",
        "colab": {}
      },
      "source": [
        "female_model.compile(loss='mae', optimizer='adam')"
      ],
      "execution_count": null,
      "outputs": []
    },
    {
      "cell_type": "code",
      "metadata": {
        "id": "7AcAOJ3PveDq",
        "colab_type": "code",
        "colab": {
          "base_uri": "https://localhost:8080/",
          "height": 204
        },
        "outputId": "de1a26df-a979-43fa-b263-d44f1a114d7b"
      },
      "source": [
        "import pandas as pd\n",
        "\n",
        "csv_train=pd.read_csv('./dataset/train_csv.csv')\n",
        "csv_train.head()"
      ],
      "execution_count": null,
      "outputs": [
        {
          "output_type": "execute_result",
          "data": {
            "text/html": [
              "<div>\n",
              "<style scoped>\n",
              "    .dataframe tbody tr th:only-of-type {\n",
              "        vertical-align: middle;\n",
              "    }\n",
              "\n",
              "    .dataframe tbody tr th {\n",
              "        vertical-align: top;\n",
              "    }\n",
              "\n",
              "    .dataframe thead th {\n",
              "        text-align: right;\n",
              "    }\n",
              "</style>\n",
              "<table border=\"1\" class=\"dataframe\">\n",
              "  <thead>\n",
              "    <tr style=\"text-align: right;\">\n",
              "      <th></th>\n",
              "      <th>id</th>\n",
              "      <th>boneage</th>\n",
              "      <th>male</th>\n",
              "    </tr>\n",
              "  </thead>\n",
              "  <tbody>\n",
              "    <tr>\n",
              "      <th>0</th>\n",
              "      <td>1377</td>\n",
              "      <td>180</td>\n",
              "      <td>False</td>\n",
              "    </tr>\n",
              "    <tr>\n",
              "      <th>1</th>\n",
              "      <td>1378</td>\n",
              "      <td>12</td>\n",
              "      <td>False</td>\n",
              "    </tr>\n",
              "    <tr>\n",
              "      <th>2</th>\n",
              "      <td>1379</td>\n",
              "      <td>94</td>\n",
              "      <td>False</td>\n",
              "    </tr>\n",
              "    <tr>\n",
              "      <th>3</th>\n",
              "      <td>1380</td>\n",
              "      <td>120</td>\n",
              "      <td>True</td>\n",
              "    </tr>\n",
              "    <tr>\n",
              "      <th>4</th>\n",
              "      <td>1381</td>\n",
              "      <td>82</td>\n",
              "      <td>False</td>\n",
              "    </tr>\n",
              "  </tbody>\n",
              "</table>\n",
              "</div>"
            ],
            "text/plain": [
              "     id  boneage   male\n",
              "0  1377      180  False\n",
              "1  1378       12  False\n",
              "2  1379       94  False\n",
              "3  1380      120   True\n",
              "4  1381       82  False"
            ]
          },
          "metadata": {
            "tags": []
          },
          "execution_count": 5
        }
      ]
    },
    {
      "cell_type": "code",
      "metadata": {
        "id": "Cra-072-xYW_",
        "colab_type": "code",
        "colab": {
          "base_uri": "https://localhost:8080/",
          "height": 204
        },
        "outputId": "d8d1f0ff-549d-4da3-fa3c-50d146e79e3e"
      },
      "source": [
        "for i in range(len(csv_train['id'])):\n",
        "  csv_train.loc[i,\"id\"] = f\"{csv_train['id'][i]}.png\"\n",
        "\n",
        "csv_train.head()"
      ],
      "execution_count": null,
      "outputs": [
        {
          "output_type": "execute_result",
          "data": {
            "text/html": [
              "<div>\n",
              "<style scoped>\n",
              "    .dataframe tbody tr th:only-of-type {\n",
              "        vertical-align: middle;\n",
              "    }\n",
              "\n",
              "    .dataframe tbody tr th {\n",
              "        vertical-align: top;\n",
              "    }\n",
              "\n",
              "    .dataframe thead th {\n",
              "        text-align: right;\n",
              "    }\n",
              "</style>\n",
              "<table border=\"1\" class=\"dataframe\">\n",
              "  <thead>\n",
              "    <tr style=\"text-align: right;\">\n",
              "      <th></th>\n",
              "      <th>id</th>\n",
              "      <th>boneage</th>\n",
              "      <th>male</th>\n",
              "    </tr>\n",
              "  </thead>\n",
              "  <tbody>\n",
              "    <tr>\n",
              "      <th>0</th>\n",
              "      <td>1377.png</td>\n",
              "      <td>180</td>\n",
              "      <td>False</td>\n",
              "    </tr>\n",
              "    <tr>\n",
              "      <th>1</th>\n",
              "      <td>1378.png</td>\n",
              "      <td>12</td>\n",
              "      <td>False</td>\n",
              "    </tr>\n",
              "    <tr>\n",
              "      <th>2</th>\n",
              "      <td>1379.png</td>\n",
              "      <td>94</td>\n",
              "      <td>False</td>\n",
              "    </tr>\n",
              "    <tr>\n",
              "      <th>3</th>\n",
              "      <td>1380.png</td>\n",
              "      <td>120</td>\n",
              "      <td>True</td>\n",
              "    </tr>\n",
              "    <tr>\n",
              "      <th>4</th>\n",
              "      <td>1381.png</td>\n",
              "      <td>82</td>\n",
              "      <td>False</td>\n",
              "    </tr>\n",
              "  </tbody>\n",
              "</table>\n",
              "</div>"
            ],
            "text/plain": [
              "         id  boneage   male\n",
              "0  1377.png      180  False\n",
              "1  1378.png       12  False\n",
              "2  1379.png       94  False\n",
              "3  1380.png      120   True\n",
              "4  1381.png       82  False"
            ]
          },
          "metadata": {
            "tags": []
          },
          "execution_count": 6
        }
      ]
    },
    {
      "cell_type": "code",
      "metadata": {
        "id": "7FmB0n81ynUv",
        "colab_type": "code",
        "colab": {
          "base_uri": "https://localhost:8080/",
          "height": 204
        },
        "outputId": "7c63ef08-8c6e-415c-f521-64039566d643"
      },
      "source": [
        "female_df = csv_train.loc [csv_train.male != True]\n",
        "female_df.head()"
      ],
      "execution_count": null,
      "outputs": [
        {
          "output_type": "execute_result",
          "data": {
            "text/html": [
              "<div>\n",
              "<style scoped>\n",
              "    .dataframe tbody tr th:only-of-type {\n",
              "        vertical-align: middle;\n",
              "    }\n",
              "\n",
              "    .dataframe tbody tr th {\n",
              "        vertical-align: top;\n",
              "    }\n",
              "\n",
              "    .dataframe thead th {\n",
              "        text-align: right;\n",
              "    }\n",
              "</style>\n",
              "<table border=\"1\" class=\"dataframe\">\n",
              "  <thead>\n",
              "    <tr style=\"text-align: right;\">\n",
              "      <th></th>\n",
              "      <th>id</th>\n",
              "      <th>boneage</th>\n",
              "      <th>male</th>\n",
              "    </tr>\n",
              "  </thead>\n",
              "  <tbody>\n",
              "    <tr>\n",
              "      <th>0</th>\n",
              "      <td>1377.png</td>\n",
              "      <td>180</td>\n",
              "      <td>False</td>\n",
              "    </tr>\n",
              "    <tr>\n",
              "      <th>1</th>\n",
              "      <td>1378.png</td>\n",
              "      <td>12</td>\n",
              "      <td>False</td>\n",
              "    </tr>\n",
              "    <tr>\n",
              "      <th>2</th>\n",
              "      <td>1379.png</td>\n",
              "      <td>94</td>\n",
              "      <td>False</td>\n",
              "    </tr>\n",
              "    <tr>\n",
              "      <th>4</th>\n",
              "      <td>1381.png</td>\n",
              "      <td>82</td>\n",
              "      <td>False</td>\n",
              "    </tr>\n",
              "    <tr>\n",
              "      <th>10</th>\n",
              "      <td>1388.png</td>\n",
              "      <td>126</td>\n",
              "      <td>False</td>\n",
              "    </tr>\n",
              "  </tbody>\n",
              "</table>\n",
              "</div>"
            ],
            "text/plain": [
              "          id  boneage   male\n",
              "0   1377.png      180  False\n",
              "1   1378.png       12  False\n",
              "2   1379.png       94  False\n",
              "4   1381.png       82  False\n",
              "10  1388.png      126  False"
            ]
          },
          "metadata": {
            "tags": []
          },
          "execution_count": 7
        }
      ]
    },
    {
      "cell_type": "code",
      "metadata": {
        "id": "AmHg9sJYyq-X",
        "colab_type": "code",
        "colab": {
          "base_uri": "https://localhost:8080/",
          "height": 35
        },
        "outputId": "ad7edbe1-d27e-403d-c045-10612ab790ec"
      },
      "source": [
        "len(female_df)"
      ],
      "execution_count": null,
      "outputs": [
        {
          "output_type": "execute_result",
          "data": {
            "text/plain": [
              "5778"
            ]
          },
          "metadata": {
            "tags": []
          },
          "execution_count": 8
        }
      ]
    },
    {
      "cell_type": "code",
      "metadata": {
        "id": "o0KfJvEByrDl",
        "colab_type": "code",
        "colab": {
          "base_uri": "https://localhost:8080/",
          "height": 53
        },
        "outputId": "b9ac9a3e-452d-4103-af0f-7d0f88dab740"
      },
      "source": [
        "from tensorflow.keras.preprocessing.image import ImageDataGenerator\n",
        "\n",
        "datagen = ImageDataGenerator(rescale=1./255, validation_split=0.2)\n",
        "\n",
        "train_generator = datagen.flow_from_dataframe(female_df, directory='./dataset/train/', x_col='id', y_col='boneage',\n",
        "                                              target_size=(224,224), color_mode='grayscale',\n",
        "                                              class_mode='raw', subset='training')\n",
        "valid_generator = datagen.flow_from_dataframe(female_df, directory='./dataset/train/', x_col='id', y_col='boneage',\n",
        "                                              target_size=(224,224), color_mode='grayscale', \n",
        "                                              class_mode='raw', subset='validation', shuffle=False)"
      ],
      "execution_count": null,
      "outputs": [
        {
          "output_type": "stream",
          "text": [
            "Found 4623 validated image filenames.\n",
            "Found 1155 validated image filenames.\n"
          ],
          "name": "stdout"
        }
      ]
    },
    {
      "cell_type": "code",
      "metadata": {
        "id": "sgMtJdeVyrBc",
        "colab_type": "code",
        "colab": {
          "base_uri": "https://localhost:8080/",
          "height": 1000
        },
        "outputId": "842f5516-9f41-4c30-b121-8d6e4552c431"
      },
      "source": [
        "checkpoint = tf.keras.callbacks.ModelCheckpoint(monitor='val_loss', save_best_only=True,\n",
        "                                                filepath=\"./drive/My Drive/양재 팀프로젝트/뼈 나이 측정/checkpoint_female.h5\")\n",
        "\n",
        "early_stopping = tf.keras.callbacks.EarlyStopping(monitor='val_loss', patience=10)\n",
        "history = female_model.fit_generator(train_generator, validation_data=valid_generator, epochs=100, callbacks=[checkpoint, early_stopping])"
      ],
      "execution_count": null,
      "outputs": [
        {
          "output_type": "stream",
          "text": [
            "WARNING:tensorflow:From <ipython-input-10-6e549afdfa8f>:5: Model.fit_generator (from tensorflow.python.keras.engine.training) is deprecated and will be removed in a future version.\n",
            "Instructions for updating:\n",
            "Please use Model.fit, which supports generators.\n",
            "Epoch 1/100\n",
            "145/145 [==============================] - 171s 1s/step - loss: 56.4112 - val_loss: 27189.7637\n",
            "Epoch 2/100\n",
            "145/145 [==============================] - 153s 1s/step - loss: 22.2096 - val_loss: 55.2878\n",
            "Epoch 3/100\n",
            "145/145 [==============================] - 149s 1s/step - loss: 17.3161 - val_loss: 52.8870\n",
            "Epoch 4/100\n",
            "145/145 [==============================] - 149s 1s/step - loss: 14.2879 - val_loss: 35.3259\n",
            "Epoch 5/100\n",
            "145/145 [==============================] - 150s 1s/step - loss: 13.4373 - val_loss: 34.6864\n",
            "Epoch 6/100\n",
            "145/145 [==============================] - 149s 1s/step - loss: 12.1585 - val_loss: 31.0249\n",
            "Epoch 7/100\n",
            "145/145 [==============================] - 146s 1s/step - loss: 11.6755 - val_loss: 32.9099\n",
            "Epoch 8/100\n",
            "145/145 [==============================] - 148s 1s/step - loss: 11.2063 - val_loss: 30.7363\n",
            "Epoch 9/100\n",
            "145/145 [==============================] - 145s 999ms/step - loss: 10.6479 - val_loss: 31.1145\n",
            "Epoch 10/100\n",
            "145/145 [==============================] - 144s 996ms/step - loss: 10.8359 - val_loss: 34.2377\n",
            "Epoch 11/100\n",
            "145/145 [==============================] - 145s 1s/step - loss: 10.4397 - val_loss: 27.0094\n",
            "Epoch 12/100\n",
            "145/145 [==============================] - 142s 982ms/step - loss: 10.1974 - val_loss: 28.6513\n",
            "Epoch 13/100\n",
            "145/145 [==============================] - 144s 994ms/step - loss: 9.8146 - val_loss: 26.9192\n",
            "Epoch 14/100\n",
            "145/145 [==============================] - 143s 984ms/step - loss: 9.8661 - val_loss: 29.6525\n",
            "Epoch 15/100\n",
            "145/145 [==============================] - 143s 984ms/step - loss: 9.5591 - val_loss: 28.1917\n",
            "Epoch 16/100\n",
            "145/145 [==============================] - 143s 983ms/step - loss: 9.1000 - val_loss: 27.8647\n",
            "Epoch 17/100\n",
            "145/145 [==============================] - 147s 1s/step - loss: 9.5188 - val_loss: 26.2073\n",
            "Epoch 18/100\n",
            "145/145 [==============================] - 148s 1s/step - loss: 9.2786 - val_loss: 25.4718\n",
            "Epoch 19/100\n",
            "145/145 [==============================] - 144s 994ms/step - loss: 9.1237 - val_loss: 28.6958\n",
            "Epoch 20/100\n",
            "145/145 [==============================] - 144s 992ms/step - loss: 8.9366 - val_loss: 30.2709\n",
            "Epoch 21/100\n",
            "145/145 [==============================] - 144s 994ms/step - loss: 8.9036 - val_loss: 26.3429\n",
            "Epoch 22/100\n",
            "145/145 [==============================] - 145s 1s/step - loss: 8.3947 - val_loss: 26.1819\n",
            "Epoch 23/100\n",
            "145/145 [==============================] - 144s 993ms/step - loss: 7.8380 - val_loss: 29.7140\n",
            "Epoch 24/100\n",
            "145/145 [==============================] - 146s 1s/step - loss: 7.9128 - val_loss: 22.3347\n",
            "Epoch 25/100\n",
            "145/145 [==============================] - 144s 993ms/step - loss: 7.9313 - val_loss: 24.1201\n",
            "Epoch 26/100\n",
            "145/145 [==============================] - 143s 989ms/step - loss: 7.5754 - val_loss: 24.2092\n",
            "Epoch 27/100\n",
            "145/145 [==============================] - 144s 990ms/step - loss: 7.8729 - val_loss: 27.6710\n",
            "Epoch 28/100\n",
            "145/145 [==============================] - 143s 987ms/step - loss: 7.5469 - val_loss: 23.0404\n",
            "Epoch 29/100\n",
            "145/145 [==============================] - 143s 985ms/step - loss: 7.2589 - val_loss: 22.5738\n",
            "Epoch 30/100\n",
            "145/145 [==============================] - 143s 989ms/step - loss: 7.1094 - val_loss: 24.1994\n",
            "Epoch 31/100\n",
            "145/145 [==============================] - 147s 1s/step - loss: 7.0740 - val_loss: 20.3107\n",
            "Epoch 32/100\n",
            "145/145 [==============================] - 145s 1s/step - loss: 7.1458 - val_loss: 33.2845\n",
            "Epoch 33/100\n",
            "145/145 [==============================] - 145s 997ms/step - loss: 6.7910 - val_loss: 23.9655\n",
            "Epoch 34/100\n",
            "145/145 [==============================] - 145s 999ms/step - loss: 6.7761 - val_loss: 20.7667\n",
            "Epoch 35/100\n",
            "145/145 [==============================] - 145s 998ms/step - loss: 6.8334 - val_loss: 21.4934\n",
            "Epoch 36/100\n",
            "145/145 [==============================] - 145s 999ms/step - loss: 6.9275 - val_loss: 23.4374\n",
            "Epoch 37/100\n",
            "145/145 [==============================] - 147s 1s/step - loss: 6.6771 - val_loss: 19.9582\n",
            "Epoch 38/100\n",
            "145/145 [==============================] - 147s 1s/step - loss: 6.8389 - val_loss: 19.5297\n",
            "Epoch 39/100\n",
            "145/145 [==============================] - 143s 989ms/step - loss: 6.8574 - val_loss: 20.9768\n",
            "Epoch 40/100\n",
            "145/145 [==============================] - 144s 993ms/step - loss: 6.0831 - val_loss: 22.3672\n",
            "Epoch 41/100\n",
            "145/145 [==============================] - 146s 1s/step - loss: 6.2971 - val_loss: 19.3886\n",
            "Epoch 42/100\n",
            "145/145 [==============================] - 145s 998ms/step - loss: 5.8367 - val_loss: 20.6723\n",
            "Epoch 43/100\n",
            "145/145 [==============================] - 149s 1s/step - loss: 6.0001 - val_loss: 19.8512\n",
            "Epoch 44/100\n",
            "145/145 [==============================] - 145s 1s/step - loss: 6.0238 - val_loss: 21.0202\n",
            "Epoch 45/100\n",
            "145/145 [==============================] - 143s 986ms/step - loss: 5.7655 - val_loss: 21.9229\n",
            "Epoch 46/100\n",
            "145/145 [==============================] - 151s 1s/step - loss: 5.1589 - val_loss: 18.9484\n",
            "Epoch 47/100\n",
            "145/145 [==============================] - 156s 1s/step - loss: 5.5338 - val_loss: 17.3409\n",
            "Epoch 48/100\n",
            "145/145 [==============================] - 156s 1s/step - loss: 5.4121 - val_loss: 16.5866\n",
            "Epoch 49/100\n",
            "145/145 [==============================] - 154s 1s/step - loss: 4.9761 - val_loss: 18.8602\n",
            "Epoch 50/100\n",
            "145/145 [==============================] - 153s 1s/step - loss: 5.1370 - val_loss: 21.9314\n",
            "Epoch 51/100\n",
            "145/145 [==============================] - 152s 1s/step - loss: 5.0340 - val_loss: 17.5516\n",
            "Epoch 52/100\n",
            "145/145 [==============================] - 151s 1s/step - loss: 4.5650 - val_loss: 17.2993\n",
            "Epoch 53/100\n",
            "145/145 [==============================] - 147s 1s/step - loss: 4.6753 - val_loss: 17.1618\n",
            "Epoch 54/100\n",
            "145/145 [==============================] - 148s 1s/step - loss: 5.0038 - val_loss: 20.7715\n",
            "Epoch 55/100\n",
            "145/145 [==============================] - 149s 1s/step - loss: 4.8128 - val_loss: 19.1502\n",
            "Epoch 56/100\n",
            "145/145 [==============================] - 148s 1s/step - loss: 4.4746 - val_loss: 16.7325\n",
            "Epoch 57/100\n",
            "145/145 [==============================] - 149s 1s/step - loss: 4.0578 - val_loss: 17.4187\n",
            "Epoch 58/100\n",
            "145/145 [==============================] - 148s 1s/step - loss: 4.0790 - val_loss: 17.4696\n"
          ],
          "name": "stdout"
        }
      ]
    },
    {
      "cell_type": "code",
      "metadata": {
        "id": "-q5Ar8_4yq73",
        "colab_type": "code",
        "colab": {
          "base_uri": "https://localhost:8080/",
          "height": 265
        },
        "outputId": "7714e158-03dd-4b3a-839e-4139832a6b21"
      },
      "source": [
        "# 학습 과정에서의 loss와 val_loss 시각화\n",
        "import matplotlib.pyplot as plt\n",
        "\n",
        "plt.plot(history.history['loss'])\n",
        "plt.plot(history.history['val_loss'])\n",
        "plt.legend(['loss', 'val_loss'])\n",
        "plt.show()"
      ],
      "execution_count": null,
      "outputs": [
        {
          "output_type": "display_data",
          "data": {
            "image/png": "[encoded data removed]",
            "text/plain": [
              "<Figure size 432x288 with 1 Axes>"
            ]
          },
          "metadata": {
            "tags": [],
            "needs_background": "light"
          }
        }
      ]
    },
    {
      "cell_type": "code",
      "metadata": {
        "id": "xGOh246AmeM1",
        "colab_type": "code",
        "colab": {
          "base_uri": "https://localhost:8080/",
          "height": 269
        },
        "outputId": "e2d7dcff-785f-40f2-d99d-3f069a48ba16"
      },
      "source": [
        "# 학습 과정에서의 loss와 val_loss 시각화\n",
        "import matplotlib.pyplot as plt\n",
        "\n",
        "plt.plot(history.history['loss'])\n",
        "plt.plot(history.history['val_loss'])\n",
        "plt.ylim(0,100)\n",
        "plt.legend(['loss', 'val_loss'])\n",
        "plt.show()"
      ],
      "execution_count": null,
      "outputs": [
        {
          "output_type": "display_data",
          "data": {
            "image/png": "[encoded data removed]",
            "text/plain": [
              "<Figure size 432x288 with 1 Axes>"
            ]
          },
          "metadata": {
            "tags": [],
            "needs_background": "light"
          }
        }
      ]
    },
    {
      "cell_type": "code",
      "metadata": {
        "id": "KglJSPSZyq5b",
        "colab_type": "code",
        "colab": {
          "base_uri": "https://localhost:8080/",
          "height": 723
        },
        "outputId": "34dbdecd-f817-425b-aeb5-5725518c7cc1"
      },
      "source": [
        "# 예측값과 정답값을 비교\n",
        "load_model = tf.keras.models.load_model(\"./drive/My Drive/양재 팀프로젝트/뼈 나이 측정/checkpoint_female.h5\")\n",
        "\n",
        "predict = load_model.predict_generator(valid_generator).flatten()\n",
        "\n",
        "compare = pd.DataFrame({\"id\" : valid_generator.filenames,\n",
        "                        \"예측\" : predict,\n",
        "                        \"정답\" : valid_generator.labels})\n",
        "compare.head(20)"
      ],
      "execution_count": null,
      "outputs": [
        {
          "output_type": "stream",
          "text": [
            "WARNING:tensorflow:From <ipython-input-16-f523328c37dd>:4: Model.predict_generator (from tensorflow.python.keras.engine.training) is deprecated and will be removed in a future version.\n",
            "Instructions for updating:\n",
            "Please use Model.predict, which supports generators.\n"
          ],
          "name": "stdout"
        },
        {
          "output_type": "execute_result",
          "data": {
            "text/html": [
              "<div>\n",
              "<style scoped>\n",
              "    .dataframe tbody tr th:only-of-type {\n",
              "        vertical-align: middle;\n",
              "    }\n",
              "\n",
              "    .dataframe tbody tr th {\n",
              "        vertical-align: top;\n",
              "    }\n",
              "\n",
              "    .dataframe thead th {\n",
              "        text-align: right;\n",
              "    }\n",
              "</style>\n",
              "<table border=\"1\" class=\"dataframe\">\n",
              "  <thead>\n",
              "    <tr style=\"text-align: right;\">\n",
              "      <th></th>\n",
              "      <th>id</th>\n",
              "      <th>예측</th>\n",
              "      <th>정답</th>\n",
              "    </tr>\n",
              "  </thead>\n",
              "  <tbody>\n",
              "    <tr>\n",
              "      <th>0</th>\n",
              "      <td>1377.png</td>\n",
              "      <td>175.497482</td>\n",
              "      <td>180</td>\n",
              "    </tr>\n",
              "    <tr>\n",
              "      <th>1</th>\n",
              "      <td>1378.png</td>\n",
              "      <td>103.227188</td>\n",
              "      <td>12</td>\n",
              "    </tr>\n",
              "    <tr>\n",
              "      <th>2</th>\n",
              "      <td>1379.png</td>\n",
              "      <td>121.754311</td>\n",
              "      <td>94</td>\n",
              "    </tr>\n",
              "    <tr>\n",
              "      <th>3</th>\n",
              "      <td>1381.png</td>\n",
              "      <td>73.472961</td>\n",
              "      <td>82</td>\n",
              "    </tr>\n",
              "    <tr>\n",
              "      <th>4</th>\n",
              "      <td>1388.png</td>\n",
              "      <td>124.876068</td>\n",
              "      <td>126</td>\n",
              "    </tr>\n",
              "    <tr>\n",
              "      <th>5</th>\n",
              "      <td>1393.png</td>\n",
              "      <td>136.494446</td>\n",
              "      <td>132</td>\n",
              "    </tr>\n",
              "    <tr>\n",
              "      <th>6</th>\n",
              "      <td>1395.png</td>\n",
              "      <td>118.637497</td>\n",
              "      <td>120</td>\n",
              "    </tr>\n",
              "    <tr>\n",
              "      <th>7</th>\n",
              "      <td>1396.png</td>\n",
              "      <td>157.672165</td>\n",
              "      <td>188</td>\n",
              "    </tr>\n",
              "    <tr>\n",
              "      <th>8</th>\n",
              "      <td>1398.png</td>\n",
              "      <td>102.362648</td>\n",
              "      <td>4</td>\n",
              "    </tr>\n",
              "    <tr>\n",
              "      <th>9</th>\n",
              "      <td>1399.png</td>\n",
              "      <td>63.452446</td>\n",
              "      <td>36</td>\n",
              "    </tr>\n",
              "    <tr>\n",
              "      <th>10</th>\n",
              "      <td>1400.png</td>\n",
              "      <td>149.294968</td>\n",
              "      <td>132</td>\n",
              "    </tr>\n",
              "    <tr>\n",
              "      <th>11</th>\n",
              "      <td>1402.png</td>\n",
              "      <td>79.538727</td>\n",
              "      <td>24</td>\n",
              "    </tr>\n",
              "    <tr>\n",
              "      <th>12</th>\n",
              "      <td>1403.png</td>\n",
              "      <td>62.013485</td>\n",
              "      <td>60</td>\n",
              "    </tr>\n",
              "    <tr>\n",
              "      <th>13</th>\n",
              "      <td>1404.png</td>\n",
              "      <td>145.107452</td>\n",
              "      <td>159</td>\n",
              "    </tr>\n",
              "    <tr>\n",
              "      <th>14</th>\n",
              "      <td>1405.png</td>\n",
              "      <td>121.903793</td>\n",
              "      <td>120</td>\n",
              "    </tr>\n",
              "    <tr>\n",
              "      <th>15</th>\n",
              "      <td>1406.png</td>\n",
              "      <td>99.359062</td>\n",
              "      <td>106</td>\n",
              "    </tr>\n",
              "    <tr>\n",
              "      <th>16</th>\n",
              "      <td>1407.png</td>\n",
              "      <td>102.403786</td>\n",
              "      <td>30</td>\n",
              "    </tr>\n",
              "    <tr>\n",
              "      <th>17</th>\n",
              "      <td>1411.png</td>\n",
              "      <td>63.998505</td>\n",
              "      <td>33</td>\n",
              "    </tr>\n",
              "    <tr>\n",
              "      <th>18</th>\n",
              "      <td>1412.png</td>\n",
              "      <td>147.231705</td>\n",
              "      <td>156</td>\n",
              "    </tr>\n",
              "    <tr>\n",
              "      <th>19</th>\n",
              "      <td>1415.png</td>\n",
              "      <td>111.922424</td>\n",
              "      <td>88</td>\n",
              "    </tr>\n",
              "  </tbody>\n",
              "</table>\n",
              "</div>"
            ],
            "text/plain": [
              "          id          예측   정답\n",
              "0   1377.png  175.497482  180\n",
              "1   1378.png  103.227188   12\n",
              "2   1379.png  121.754311   94\n",
              "3   1381.png   73.472961   82\n",
              "4   1388.png  124.876068  126\n",
              "5   1393.png  136.494446  132\n",
              "6   1395.png  118.637497  120\n",
              "7   1396.png  157.672165  188\n",
              "8   1398.png  102.362648    4\n",
              "9   1399.png   63.452446   36\n",
              "10  1400.png  149.294968  132\n",
              "11  1402.png   79.538727   24\n",
              "12  1403.png   62.013485   60\n",
              "13  1404.png  145.107452  159\n",
              "14  1405.png  121.903793  120\n",
              "15  1406.png   99.359062  106\n",
              "16  1407.png  102.403786   30\n",
              "17  1411.png   63.998505   33\n",
              "18  1412.png  147.231705  156\n",
              "19  1415.png  111.922424   88"
            ]
          },
          "metadata": {
            "tags": []
          },
          "execution_count": 16
        }
      ]
    },
    {
      "cell_type": "code",
      "metadata": {
        "id": "uMH2vPQ_yxKg",
        "colab_type": "code",
        "colab": {
          "base_uri": "https://localhost:8080/",
          "height": 279
        },
        "outputId": "78283309-ef74-4814-df50-1526c3592dc7"
      },
      "source": [
        "# 최종 결과값과 예측값 비교 시각화\n",
        "import matplotlib.pyplot as plt\n",
        "\n",
        "plt.scatter(valid_generator.labels, predict, color='b', s=3)\n",
        "plt.plot(valid_generator.labels, valid_generator.labels, 'r')\n",
        "plt.xlabel(\"Answer\")\n",
        "plt.ylabel(\"Prediction\")\n",
        "plt.show()"
      ],
      "execution_count": null,
      "outputs": [
        {
          "output_type": "display_data",
          "data": {
            "image/png": "[encoded data removed]",
            "text/plain": [
              "<Figure size 432x288 with 1 Axes>"
            ]
          },
          "metadata": {
            "tags": [],
            "needs_background": "light"
          }
        }
      ]
    }
  ]
}