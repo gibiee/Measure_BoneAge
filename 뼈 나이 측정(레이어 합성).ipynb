{
  "nbformat": 4,
  "nbformat_minor": 0,
  "metadata": {
    "colab": {
      "name": "뼈 나이 측정 (레이어 합성)",
      "provenance": [],
      "collapsed_sections": [],
      "machine_shape": "hm",
      "mount_file_id": "1I_W_XRwSupN7vLsvtJGuT8cOOMKEzPAF",
      "authorship_tag": "ABX9TyOKpf8j/qrmQhUgRR6wytud",
      "include_colab_link": true
    },
    "kernelspec": {
      "name": "python3",
      "display_name": "Python 3"
    },
    "accelerator": "GPU"
  },
  "cells": [
    {
      "cell_type": "markdown",
      "metadata": {
        "id": "view-in-github",
        "colab_type": "text"
      },
      "source": [
        "<a href=\"https://colab.research.google.com/github/gibiee/Measure_BoneAge/blob/master/%EB%BC%88%20%EB%82%98%EC%9D%B4%20%EC%B8%A1%EC%A0%95(%EB%A0%88%EC%9D%B4%EC%96%B4%20%ED%95%A9%EC%84%B1).ipynb\" target=\"_parent\"><img src=\"https://colab.research.google.com/assets/colab-badge.svg\" alt=\"Open In Colab\"/></a>"
      ]
    },
    {
      "cell_type": "markdown",
      "metadata": {
        "id": "OL1g9ki7P70U",
        "colab_type": "text"
      },
      "source": [
        "# 레이어 합성 간단한 예제"
      ]
    },
    {
      "cell_type": "code",
      "metadata": {
        "id": "42K9CYUxld90",
        "colab_type": "code",
        "colab": {
          "base_uri": "https://localhost:8080/",
          "height": 880
        },
        "outputId": "377c19ce-e3d2-4a52-d03f-6e20b1fae577"
      },
      "source": [
        "import tensorflow as tf\n",
        "\n",
        "input1 = tf.keras.layers.Input(shape=(3,))\n",
        "n1 = tf.keras.layers.Dense(5, activation='relu')(input1)\n",
        "n2 = tf.keras.layers.Dense(3, activation='relu')(n1)\n",
        "\n",
        "input2 = tf.keras.layers.Input(shape=(2,))\n",
        "n3 = tf.keras.layers.Dense(1, activation='linear')(input2)\n",
        "\n",
        "concat = tf.keras.layers.concatenate([n2, n3])\n",
        "output = tf.keras.layers.Dense(3)(concat)\n",
        "\n",
        "model = tf.keras.models.Model(inputs=[input1, input2], outputs=output)\n",
        "model.summary()\n",
        "tf.keras.utils.plot_model(model)"
      ],
      "execution_count": null,
      "outputs": [
        {
          "output_type": "stream",
          "text": [
            "Model: \"functional_1\"\n",
            "__________________________________________________________________________________________________\n",
            "Layer (type)                    Output Shape         Param #     Connected to                     \n",
            "==================================================================================================\n",
            "input_1 (InputLayer)            [(None, 3)]          0                                            \n",
            "__________________________________________________________________________________________________\n",
            "dense (Dense)                   (None, 5)            20          input_1[0][0]                    \n",
            "__________________________________________________________________________________________________\n",
            "input_2 (InputLayer)            [(None, 2)]          0                                            \n",
            "__________________________________________________________________________________________________\n",
            "dense_1 (Dense)                 (None, 3)            18          dense[0][0]                      \n",
            "__________________________________________________________________________________________________\n",
            "dense_2 (Dense)                 (None, 1)            3           input_2[0][0]                    \n",
            "__________________________________________________________________________________________________\n",
            "concatenate (Concatenate)       (None, 4)            0           dense_1[0][0]                    \n",
            "                                                                 dense_2[0][0]                    \n",
            "__________________________________________________________________________________________________\n",
            "dense_3 (Dense)                 (None, 3)            15          concatenate[0][0]                \n",
            "==================================================================================================\n",
            "Total params: 56\n",
            "Trainable params: 56\n",
            "Non-trainable params: 0\n",
            "__________________________________________________________________________________________________\n"
          ],
          "name": "stdout"
        },
        {
          "output_type": "execute_result",
          "data": {
            "image/png": "[encoded data removed]",
            "text/plain": [
              "<IPython.core.display.Image object>"
            ]
          },
          "metadata": {
            "tags": []
          },
          "execution_count": 1
        }
      ]
    },
    {
      "cell_type": "code",
      "metadata": {
        "id": "G4mDNk_-leAD",
        "colab_type": "code",
        "colab": {}
      },
      "source": [
        "import numpy as np\n",
        "\n",
        "x1 = np.array([[1,2,3],\n",
        "               [4,5,6],\n",
        "               [7,8,9]])\n",
        "x2 = np.array([[1,0],\n",
        "               [0,1],\n",
        "               [1,0]])\n",
        "\n",
        "y = np.array([[10],\n",
        "              [20],\n",
        "              [30]])"
      ],
      "execution_count": null,
      "outputs": []
    },
    {
      "cell_type": "code",
      "metadata": {
        "id": "8omKAx35_cdc",
        "colab_type": "code",
        "colab": {
          "base_uri": "https://localhost:8080/",
          "height": 215
        },
        "outputId": "d5573b6c-047c-4f18-a7da-8a2f77ab0586"
      },
      "source": [
        "model.compile(loss='mse', optimizer='adam')\n",
        "model.fit([x1,x2], y, epochs=5)"
      ],
      "execution_count": null,
      "outputs": [
        {
          "output_type": "stream",
          "text": [
            "Epoch 1/5\n",
            "1/1 [==============================] - 0s 1ms/step - loss: 472.4013\n",
            "Epoch 2/5\n",
            "1/1 [==============================] - 0s 1ms/step - loss: 472.2869\n",
            "Epoch 3/5\n",
            "1/1 [==============================] - 0s 1ms/step - loss: 472.1720\n",
            "Epoch 4/5\n",
            "1/1 [==============================] - 0s 1ms/step - loss: 472.0568\n",
            "Epoch 5/5\n",
            "1/1 [==============================] - 0s 1ms/step - loss: 471.9413\n"
          ],
          "name": "stdout"
        },
        {
          "output_type": "execute_result",
          "data": {
            "text/plain": [
              "<tensorflow.python.keras.callbacks.History at 0x7f33d00af5c0>"
            ]
          },
          "metadata": {
            "tags": []
          },
          "execution_count": 4
        }
      ]
    },
    {
      "cell_type": "markdown",
      "metadata": {
        "id": "Amsn8Up0qXC8",
        "colab_type": "text"
      },
      "source": [
        "# InceptionV3에 붙이기"
      ]
    },
    {
      "cell_type": "code",
      "metadata": {
        "id": "B9bmUdVRqUSx",
        "colab_type": "code",
        "colab": {
          "base_uri": "https://localhost:8080/",
          "height": 978
        },
        "outputId": "4b425a20-71bc-4c9c-fdd9-ab59ac12ad4d"
      },
      "source": [
        "import tensorflow as tf\n",
        "\n",
        "base_model = tf.keras.Sequential([\n",
        "                                  tf.keras.applications.InceptionV3(weights=None, include_top=False, input_shape=(224,224,1)),\n",
        "                                  tf.keras.layers.GlobalAveragePooling2D()\n",
        "                                ])\n",
        "\n",
        "input_gender = tf.keras.layers.Input(shape=(2,)) # 성별 특성\n",
        "\n",
        "concat = tf.keras.layers.concatenate([base_model.output, input_gender])\n",
        "n1 = tf.keras.layers.Dense(1024, activation='relu')(concat)\n",
        "output = tf.keras.layers.Dense(1, name=\"predict\")(n1)\n",
        "\n",
        "model = tf.keras.Model(inputs=[base_model.input, input_gender], outputs=output)\n",
        "model.summary()\n",
        "tf.keras.utils.plot_model(model)"
      ],
      "execution_count": null,
      "outputs": [
        {
          "output_type": "stream",
          "text": [
            "Model: \"functional_3\"\n",
            "__________________________________________________________________________________________________\n",
            "Layer (type)                    Output Shape         Param #     Connected to                     \n",
            "==================================================================================================\n",
            "inception_v3_input (InputLayer) [(None, 224, 224, 1) 0                                            \n",
            "__________________________________________________________________________________________________\n",
            "inception_v3 (Functional)       (None, 5, 5, 2048)   21802208    inception_v3_input[0][0]         \n",
            "__________________________________________________________________________________________________\n",
            "global_average_pooling2d (Globa (None, 2048)         0           inception_v3[0][0]               \n",
            "__________________________________________________________________________________________________\n",
            "input_4 (InputLayer)            [(None, 2)]          0                                            \n",
            "__________________________________________________________________________________________________\n",
            "concatenate_3 (Concatenate)     (None, 2050)         0           global_average_pooling2d[0][0]   \n",
            "                                                                 input_4[0][0]                    \n",
            "__________________________________________________________________________________________________\n",
            "dense_4 (Dense)                 (None, 1024)         2100224     concatenate_3[0][0]              \n",
            "__________________________________________________________________________________________________\n",
            "predict (Dense)                 (None, 1)            1025        dense_4[0][0]                    \n",
            "==================================================================================================\n",
            "Total params: 23,903,457\n",
            "Trainable params: 23,869,025\n",
            "Non-trainable params: 34,432\n",
            "__________________________________________________________________________________________________\n"
          ],
          "name": "stdout"
        },
        {
          "output_type": "execute_result",
          "data": {
            "image/png": "[encoded data removed]",
            "text/plain": [
              "<IPython.core.display.Image object>"
            ]
          },
          "metadata": {
            "tags": []
          },
          "execution_count": 5
        }
      ]
    },
    {
      "cell_type": "code",
      "metadata": {
        "id": "j3TwwhCMVJuR",
        "colab_type": "code",
        "colab": {}
      },
      "source": [
        "model.compile(loss='mae', optimizer='adam')"
      ],
      "execution_count": null,
      "outputs": []
    },
    {
      "cell_type": "markdown",
      "metadata": {
        "id": "SmbHBoAR3Td5",
        "colab_type": "text"
      },
      "source": [
        "# 실제 데이터를 입력해보기"
      ]
    },
    {
      "cell_type": "code",
      "metadata": {
        "id": "tmzqfx5LqkqF",
        "colab_type": "code",
        "colab": {
          "base_uri": "https://localhost:8080/",
          "height": 35
        },
        "outputId": "9efc9829-6e7b-4267-de82-3843282d4b19"
      },
      "source": [
        "!unzip -q \"./drive/My Drive/양재 팀프로젝트/뼈 나이 측정/BoneAge_Dataset.zip\" -d dataset\n",
        "!ls"
      ],
      "execution_count": null,
      "outputs": [
        {
          "output_type": "stream",
          "text": [
            "dataset  drive\tmodel.png  sample_data\n"
          ],
          "name": "stdout"
        }
      ]
    },
    {
      "cell_type": "code",
      "metadata": {
        "id": "d6zxrVOo3Y9p",
        "colab_type": "code",
        "colab": {
          "base_uri": "https://localhost:8080/",
          "height": 204
        },
        "outputId": "64245521-bb7d-4651-9c3e-8502ccd41041"
      },
      "source": [
        "import pandas as pd\n",
        "\n",
        "csv_train = pd.read_csv(\"./dataset/train_csv.csv\")\n",
        "csv_train.head()"
      ],
      "execution_count": null,
      "outputs": [
        {
          "output_type": "execute_result",
          "data": {
            "text/html": [
              "<div>\n",
              "<style scoped>\n",
              "    .dataframe tbody tr th:only-of-type {\n",
              "        vertical-align: middle;\n",
              "    }\n",
              "\n",
              "    .dataframe tbody tr th {\n",
              "        vertical-align: top;\n",
              "    }\n",
              "\n",
              "    .dataframe thead th {\n",
              "        text-align: right;\n",
              "    }\n",
              "</style>\n",
              "<table border=\"1\" class=\"dataframe\">\n",
              "  <thead>\n",
              "    <tr style=\"text-align: right;\">\n",
              "      <th></th>\n",
              "      <th>id</th>\n",
              "      <th>boneage</th>\n",
              "      <th>male</th>\n",
              "    </tr>\n",
              "  </thead>\n",
              "  <tbody>\n",
              "    <tr>\n",
              "      <th>0</th>\n",
              "      <td>1377</td>\n",
              "      <td>180</td>\n",
              "      <td>False</td>\n",
              "    </tr>\n",
              "    <tr>\n",
              "      <th>1</th>\n",
              "      <td>1378</td>\n",
              "      <td>12</td>\n",
              "      <td>False</td>\n",
              "    </tr>\n",
              "    <tr>\n",
              "      <th>2</th>\n",
              "      <td>1379</td>\n",
              "      <td>94</td>\n",
              "      <td>False</td>\n",
              "    </tr>\n",
              "    <tr>\n",
              "      <th>3</th>\n",
              "      <td>1380</td>\n",
              "      <td>120</td>\n",
              "      <td>True</td>\n",
              "    </tr>\n",
              "    <tr>\n",
              "      <th>4</th>\n",
              "      <td>1381</td>\n",
              "      <td>82</td>\n",
              "      <td>False</td>\n",
              "    </tr>\n",
              "  </tbody>\n",
              "</table>\n",
              "</div>"
            ],
            "text/plain": [
              "     id  boneage   male\n",
              "0  1377      180  False\n",
              "1  1378       12  False\n",
              "2  1379       94  False\n",
              "3  1380      120   True\n",
              "4  1381       82  False"
            ]
          },
          "metadata": {
            "tags": []
          },
          "execution_count": 8
        }
      ]
    },
    {
      "cell_type": "code",
      "metadata": {
        "id": "AO9pvYeq62jI",
        "colab_type": "code",
        "colab": {
          "base_uri": "https://localhost:8080/",
          "height": 204
        },
        "outputId": "fd12bd5f-a61f-4a37-fdcf-c6b4a1f33a91"
      },
      "source": [
        "for i in range(len(csv_train)) :\n",
        "    csv_train.loc[i,\"id\"] = f\"{csv_train['id'][i]}.png\"\n",
        "    \n",
        "csv_train.head()"
      ],
      "execution_count": null,
      "outputs": [
        {
          "output_type": "execute_result",
          "data": {
            "text/html": [
              "<div>\n",
              "<style scoped>\n",
              "    .dataframe tbody tr th:only-of-type {\n",
              "        vertical-align: middle;\n",
              "    }\n",
              "\n",
              "    .dataframe tbody tr th {\n",
              "        vertical-align: top;\n",
              "    }\n",
              "\n",
              "    .dataframe thead th {\n",
              "        text-align: right;\n",
              "    }\n",
              "</style>\n",
              "<table border=\"1\" class=\"dataframe\">\n",
              "  <thead>\n",
              "    <tr style=\"text-align: right;\">\n",
              "      <th></th>\n",
              "      <th>id</th>\n",
              "      <th>boneage</th>\n",
              "      <th>male</th>\n",
              "    </tr>\n",
              "  </thead>\n",
              "  <tbody>\n",
              "    <tr>\n",
              "      <th>0</th>\n",
              "      <td>1377.png</td>\n",
              "      <td>180</td>\n",
              "      <td>False</td>\n",
              "    </tr>\n",
              "    <tr>\n",
              "      <th>1</th>\n",
              "      <td>1378.png</td>\n",
              "      <td>12</td>\n",
              "      <td>False</td>\n",
              "    </tr>\n",
              "    <tr>\n",
              "      <th>2</th>\n",
              "      <td>1379.png</td>\n",
              "      <td>94</td>\n",
              "      <td>False</td>\n",
              "    </tr>\n",
              "    <tr>\n",
              "      <th>3</th>\n",
              "      <td>1380.png</td>\n",
              "      <td>120</td>\n",
              "      <td>True</td>\n",
              "    </tr>\n",
              "    <tr>\n",
              "      <th>4</th>\n",
              "      <td>1381.png</td>\n",
              "      <td>82</td>\n",
              "      <td>False</td>\n",
              "    </tr>\n",
              "  </tbody>\n",
              "</table>\n",
              "</div>"
            ],
            "text/plain": [
              "         id  boneage   male\n",
              "0  1377.png      180  False\n",
              "1  1378.png       12  False\n",
              "2  1379.png       94  False\n",
              "3  1380.png      120   True\n",
              "4  1381.png       82  False"
            ]
          },
          "metadata": {
            "tags": []
          },
          "execution_count": 9
        }
      ]
    },
    {
      "cell_type": "code",
      "metadata": {
        "id": "WhupGADm6_Lb",
        "colab_type": "code",
        "colab": {
          "base_uri": "https://localhost:8080/",
          "height": 359
        },
        "outputId": "bed1c8f7-a046-4a9c-e4b5-5adceb8f5a6f"
      },
      "source": [
        "csv_train[\"gender\"] = None\n",
        "male, female = tf.one_hot([0,1], 2)\n",
        "for i in range(len(csv_train)) :\n",
        "    if csv_train[\"male\"][i] == True :\n",
        "        csv_train.at[i,\"gender\"] = np.array([1,0])\n",
        "    else :\n",
        "        csv_train.at[i,\"gender\"] = np.array([0,1])\n",
        "\n",
        "csv_train.head(10)"
      ],
      "execution_count": null,
      "outputs": [
        {
          "output_type": "execute_result",
          "data": {
            "text/html": [
              "<div>\n",
              "<style scoped>\n",
              "    .dataframe tbody tr th:only-of-type {\n",
              "        vertical-align: middle;\n",
              "    }\n",
              "\n",
              "    .dataframe tbody tr th {\n",
              "        vertical-align: top;\n",
              "    }\n",
              "\n",
              "    .dataframe thead th {\n",
              "        text-align: right;\n",
              "    }\n",
              "</style>\n",
              "<table border=\"1\" class=\"dataframe\">\n",
              "  <thead>\n",
              "    <tr style=\"text-align: right;\">\n",
              "      <th></th>\n",
              "      <th>id</th>\n",
              "      <th>boneage</th>\n",
              "      <th>male</th>\n",
              "      <th>gender</th>\n",
              "    </tr>\n",
              "  </thead>\n",
              "  <tbody>\n",
              "    <tr>\n",
              "      <th>0</th>\n",
              "      <td>1377.png</td>\n",
              "      <td>180</td>\n",
              "      <td>False</td>\n",
              "      <td>[0, 1]</td>\n",
              "    </tr>\n",
              "    <tr>\n",
              "      <th>1</th>\n",
              "      <td>1378.png</td>\n",
              "      <td>12</td>\n",
              "      <td>False</td>\n",
              "      <td>[0, 1]</td>\n",
              "    </tr>\n",
              "    <tr>\n",
              "      <th>2</th>\n",
              "      <td>1379.png</td>\n",
              "      <td>94</td>\n",
              "      <td>False</td>\n",
              "      <td>[0, 1]</td>\n",
              "    </tr>\n",
              "    <tr>\n",
              "      <th>3</th>\n",
              "      <td>1380.png</td>\n",
              "      <td>120</td>\n",
              "      <td>True</td>\n",
              "      <td>[1, 0]</td>\n",
              "    </tr>\n",
              "    <tr>\n",
              "      <th>4</th>\n",
              "      <td>1381.png</td>\n",
              "      <td>82</td>\n",
              "      <td>False</td>\n",
              "      <td>[0, 1]</td>\n",
              "    </tr>\n",
              "    <tr>\n",
              "      <th>5</th>\n",
              "      <td>1382.png</td>\n",
              "      <td>138</td>\n",
              "      <td>True</td>\n",
              "      <td>[1, 0]</td>\n",
              "    </tr>\n",
              "    <tr>\n",
              "      <th>6</th>\n",
              "      <td>1383.png</td>\n",
              "      <td>150</td>\n",
              "      <td>True</td>\n",
              "      <td>[1, 0]</td>\n",
              "    </tr>\n",
              "    <tr>\n",
              "      <th>7</th>\n",
              "      <td>1384.png</td>\n",
              "      <td>156</td>\n",
              "      <td>True</td>\n",
              "      <td>[1, 0]</td>\n",
              "    </tr>\n",
              "    <tr>\n",
              "      <th>8</th>\n",
              "      <td>1385.png</td>\n",
              "      <td>36</td>\n",
              "      <td>True</td>\n",
              "      <td>[1, 0]</td>\n",
              "    </tr>\n",
              "    <tr>\n",
              "      <th>9</th>\n",
              "      <td>1387.png</td>\n",
              "      <td>138</td>\n",
              "      <td>True</td>\n",
              "      <td>[1, 0]</td>\n",
              "    </tr>\n",
              "  </tbody>\n",
              "</table>\n",
              "</div>"
            ],
            "text/plain": [
              "         id  boneage   male  gender\n",
              "0  1377.png      180  False  [0, 1]\n",
              "1  1378.png       12  False  [0, 1]\n",
              "2  1379.png       94  False  [0, 1]\n",
              "3  1380.png      120   True  [1, 0]\n",
              "4  1381.png       82  False  [0, 1]\n",
              "5  1382.png      138   True  [1, 0]\n",
              "6  1383.png      150   True  [1, 0]\n",
              "7  1384.png      156   True  [1, 0]\n",
              "8  1385.png       36   True  [1, 0]\n",
              "9  1387.png      138   True  [1, 0]"
            ]
          },
          "metadata": {
            "tags": []
          },
          "execution_count": 10
        }
      ]
    },
    {
      "cell_type": "code",
      "metadata": {
        "id": "wG_4cJUYS21M",
        "colab_type": "code",
        "colab": {}
      },
      "source": [
        "# dataframe에 이미지를 numpy 배열으로 저장\n",
        "import cv2\n",
        "import numpy as np\n",
        "\n",
        "csv_train[\"image\"] = None\n",
        "for i in range(len(csv_train)) :\n",
        "    image = cv2.imread(f\"./dataset/train/{csv_train['id'][i]}\", cv2.IMREAD_GRAYSCALE).astype(np.float32)\n",
        "    image.resize((224,224))\n",
        "\n",
        "    csv_train.at[i,\"image\"] = image"
      ],
      "execution_count": null,
      "outputs": []
    },
    {
      "cell_type": "code",
      "metadata": {
        "id": "c5nKycC4oj7Z",
        "colab_type": "code",
        "colab": {
          "base_uri": "https://localhost:8080/",
          "height": 204
        },
        "outputId": "8c3f9fd0-a611-4a80-f809-362bd12c71de"
      },
      "source": [
        "csv_train.head(5)"
      ],
      "execution_count": null,
      "outputs": [
        {
          "output_type": "execute_result",
          "data": {
            "text/html": [
              "<div>\n",
              "<style scoped>\n",
              "    .dataframe tbody tr th:only-of-type {\n",
              "        vertical-align: middle;\n",
              "    }\n",
              "\n",
              "    .dataframe tbody tr th {\n",
              "        vertical-align: top;\n",
              "    }\n",
              "\n",
              "    .dataframe thead th {\n",
              "        text-align: right;\n",
              "    }\n",
              "</style>\n",
              "<table border=\"1\" class=\"dataframe\">\n",
              "  <thead>\n",
              "    <tr style=\"text-align: right;\">\n",
              "      <th></th>\n",
              "      <th>id</th>\n",
              "      <th>boneage</th>\n",
              "      <th>male</th>\n",
              "      <th>gender</th>\n",
              "      <th>image</th>\n",
              "    </tr>\n",
              "  </thead>\n",
              "  <tbody>\n",
              "    <tr>\n",
              "      <th>0</th>\n",
              "      <td>1377.png</td>\n",
              "      <td>180</td>\n",
              "      <td>False</td>\n",
              "      <td>[0, 1]</td>\n",
              "      <td>[[241.0, 230.0, 239.0, 241.0, 246.0, 242.0, 24...</td>\n",
              "    </tr>\n",
              "    <tr>\n",
              "      <th>1</th>\n",
              "      <td>1378.png</td>\n",
              "      <td>12</td>\n",
              "      <td>False</td>\n",
              "      <td>[0, 1]</td>\n",
              "      <td>[[127.0, 130.0, 128.0, 132.0, 128.0, 129.0, 13...</td>\n",
              "    </tr>\n",
              "    <tr>\n",
              "      <th>2</th>\n",
              "      <td>1379.png</td>\n",
              "      <td>94</td>\n",
              "      <td>False</td>\n",
              "      <td>[0, 1]</td>\n",
              "      <td>[[128.0, 127.0, 126.0, 127.0, 127.0, 127.0, 12...</td>\n",
              "    </tr>\n",
              "    <tr>\n",
              "      <th>3</th>\n",
              "      <td>1380.png</td>\n",
              "      <td>120</td>\n",
              "      <td>True</td>\n",
              "      <td>[1, 0]</td>\n",
              "      <td>[[62.0, 63.0, 62.0, 67.0, 61.0, 62.0, 64.0, 61...</td>\n",
              "    </tr>\n",
              "    <tr>\n",
              "      <th>4</th>\n",
              "      <td>1381.png</td>\n",
              "      <td>82</td>\n",
              "      <td>False</td>\n",
              "      <td>[0, 1]</td>\n",
              "      <td>[[129.0, 130.0, 126.0, 128.0, 127.0, 130.0, 12...</td>\n",
              "    </tr>\n",
              "  </tbody>\n",
              "</table>\n",
              "</div>"
            ],
            "text/plain": [
              "         id  boneage  ...  gender                                              image\n",
              "0  1377.png      180  ...  [0, 1]  [[241.0, 230.0, 239.0, 241.0, 246.0, 242.0, 24...\n",
              "1  1378.png       12  ...  [0, 1]  [[127.0, 130.0, 128.0, 132.0, 128.0, 129.0, 13...\n",
              "2  1379.png       94  ...  [0, 1]  [[128.0, 127.0, 126.0, 127.0, 127.0, 127.0, 12...\n",
              "3  1380.png      120  ...  [1, 0]  [[62.0, 63.0, 62.0, 67.0, 61.0, 62.0, 64.0, 61...\n",
              "4  1381.png       82  ...  [0, 1]  [[129.0, 130.0, 126.0, 128.0, 127.0, 130.0, 12...\n",
              "\n",
              "[5 rows x 5 columns]"
            ]
          },
          "metadata": {
            "tags": []
          },
          "execution_count": 12
        }
      ]
    },
    {
      "cell_type": "code",
      "metadata": {
        "id": "8C2YQ4mOORbF",
        "colab_type": "code",
        "colab": {}
      },
      "source": [
        "# subset=\"training\" / \"validation\" 에서 오류\n",
        "# Training and validation subsets have different number of classes after the split. If your numpy arrays are sorted by the label, you might want to shuffle them.\n",
        "# 따라서 train 데이터와 validationn 데이터를 나누어서 dataframe을 생성한다.\n",
        "\n",
        "train_df = csv_train[2522:]\n",
        "valid_df = csv_train[:2522]"
      ],
      "execution_count": null,
      "outputs": []
    },
    {
      "cell_type": "code",
      "metadata": {
        "id": "ZhI-pfi1p4DT",
        "colab_type": "code",
        "colab": {}
      },
      "source": [
        "from tensorflow.keras.preprocessing.image import ImageDataGenerator\n",
        "\n",
        "datagen = ImageDataGenerator(rescale=1./255, dtype=np.float32)\n",
        "\n",
        "input_image = np.array(train_df[\"image\"].tolist())\n",
        "input_image = input_image[..., np.newaxis]                                      # 입력1 : 이미지\n",
        "input_gender = np.array(train_df[\"gender\"].tolist())                            # 입력2 : 성별\n",
        "output_boneage = np.array(train_df[\"boneage\"], dtype=np.float32).reshape(-1,1)  #  결과 : 뼈 나이\n",
        "\n",
        "train_generator = datagen.flow(x=[input_image, input_gender], y=output_boneage)\n",
        "\n",
        "# validation data 설정\n",
        "input_image = np.array(valid_df[\"image\"].tolist())\n",
        "input_image = input_image[..., np.newaxis]\n",
        "input_gender = np.array(valid_df[\"gender\"].tolist())\n",
        "output_boneage = np.array(valid_df[\"boneage\"], dtype=np.float32).reshape(-1,1)\n",
        "\n",
        "valid_generator = datagen.flow(x=[input_image, input_gender], y=output_boneage, shuffle=False)"
      ],
      "execution_count": null,
      "outputs": []
    },
    {
      "cell_type": "code",
      "metadata": {
        "id": "l6CamS8U65zJ",
        "colab_type": "code",
        "colab": {
          "base_uri": "https://localhost:8080/",
          "height": 1000
        },
        "outputId": "5b1aba73-56de-4ec7-ee8e-ea1efcb050eb"
      },
      "source": [
        "checkpoint = tf.keras.callbacks.ModelCheckpoint(monitor='val_loss', save_best_only=True,\n",
        "                                                filepath=\"./drive/My Drive/양재 팀프로젝트/뼈 나이 측정/checkpoint_layer.h5\")\n",
        "# early_stopping = tf.keras.callbacks.EarlyStopping(monitor='val_loss', patience=20) # 조기종료 콜백함수 정의\n",
        "\n",
        "# history = model.fit_generator(train_generator, validation_data=valid_generator, epochs=100, callbacks=[checkpoint, early_stopping])\n",
        "history = model.fit_generator(train_generator, validation_data=valid_generator, epochs=50, callbacks=[checkpoint])"
      ],
      "execution_count": null,
      "outputs": [
        {
          "output_type": "stream",
          "text": [
            "Epoch 1/50\n",
            "316/316 [==============================] - 50s 159ms/step - loss: 25.2766 - val_loss: 38.6614\n",
            "Epoch 2/50\n",
            "316/316 [==============================] - 48s 153ms/step - loss: 25.3577 - val_loss: 44.0461\n",
            "Epoch 3/50\n",
            "316/316 [==============================] - 48s 153ms/step - loss: 25.3027 - val_loss: 39.1073\n",
            "Epoch 4/50\n",
            "316/316 [==============================] - 52s 164ms/step - loss: 25.3790 - val_loss: 38.6195\n",
            "Epoch 5/50\n",
            "316/316 [==============================] - 48s 153ms/step - loss: 25.1868 - val_loss: 49.7978\n",
            "Epoch 6/50\n",
            "316/316 [==============================] - 52s 164ms/step - loss: 25.1000 - val_loss: 37.4378\n",
            "Epoch 7/50\n",
            "316/316 [==============================] - 49s 154ms/step - loss: 25.0602 - val_loss: 38.6642\n",
            "Epoch 8/50\n",
            "316/316 [==============================] - 49s 154ms/step - loss: 24.9694 - val_loss: 39.9051\n",
            "Epoch 9/50\n",
            "316/316 [==============================] - 52s 164ms/step - loss: 24.8451 - val_loss: 36.9905\n",
            "Epoch 10/50\n",
            "316/316 [==============================] - 49s 154ms/step - loss: 25.2379 - val_loss: 37.3641\n",
            "Epoch 11/50\n",
            "316/316 [==============================] - 49s 154ms/step - loss: 24.8324 - val_loss: 40.7739\n",
            "Epoch 12/50\n",
            "316/316 [==============================] - 49s 154ms/step - loss: 25.2243 - val_loss: 38.5582\n",
            "Epoch 13/50\n",
            "316/316 [==============================] - 49s 154ms/step - loss: 24.8375 - val_loss: 41.9707\n",
            "Epoch 14/50\n",
            "316/316 [==============================] - 49s 154ms/step - loss: 24.8460 - val_loss: 39.0425\n",
            "Epoch 15/50\n",
            "316/316 [==============================] - 49s 154ms/step - loss: 24.7256 - val_loss: 39.6095\n",
            "Epoch 16/50\n",
            "316/316 [==============================] - 49s 154ms/step - loss: 24.6290 - val_loss: 37.7827\n",
            "Epoch 17/50\n",
            "316/316 [==============================] - 49s 154ms/step - loss: 24.6541 - val_loss: 37.3793\n",
            "Epoch 18/50\n",
            "316/316 [==============================] - 49s 154ms/step - loss: 24.6998 - val_loss: 40.0616\n",
            "Epoch 19/50\n",
            "316/316 [==============================] - 49s 154ms/step - loss: 24.6165 - val_loss: 40.1194\n",
            "Epoch 20/50\n",
            "316/316 [==============================] - 49s 154ms/step - loss: 24.6571 - val_loss: 37.2586\n",
            "Epoch 21/50\n",
            "316/316 [==============================] - 49s 154ms/step - loss: 24.4178 - val_loss: 38.3066\n",
            "Epoch 22/50\n",
            "316/316 [==============================] - 49s 154ms/step - loss: 24.5698 - val_loss: 37.2094\n",
            "Epoch 23/50\n",
            "316/316 [==============================] - 49s 154ms/step - loss: 24.3494 - val_loss: 43.6794\n",
            "Epoch 24/50\n",
            "316/316 [==============================] - 49s 154ms/step - loss: 24.3733 - val_loss: 37.0253\n",
            "Epoch 25/50\n",
            "316/316 [==============================] - 49s 154ms/step - loss: 24.3780 - val_loss: 41.0667\n",
            "Epoch 26/50\n",
            "316/316 [==============================] - 49s 154ms/step - loss: 24.2325 - val_loss: 37.6148\n",
            "Epoch 27/50\n",
            "316/316 [==============================] - 49s 154ms/step - loss: 24.1073 - val_loss: 39.7574\n",
            "Epoch 28/50\n",
            "316/316 [==============================] - 49s 154ms/step - loss: 24.1116 - val_loss: 39.0538\n",
            "Epoch 29/50\n",
            "316/316 [==============================] - 49s 154ms/step - loss: 24.0743 - val_loss: 38.5430\n",
            "Epoch 30/50\n",
            "316/316 [==============================] - 49s 154ms/step - loss: 24.0384 - val_loss: 37.2369\n",
            "Epoch 31/50\n",
            "316/316 [==============================] - 49s 154ms/step - loss: 23.8844 - val_loss: 39.6243\n",
            "Epoch 32/50\n",
            "316/316 [==============================] - 49s 154ms/step - loss: 23.9281 - val_loss: 38.9604\n",
            "Epoch 33/50\n",
            "316/316 [==============================] - 49s 154ms/step - loss: 23.8748 - val_loss: 37.2331\n",
            "Epoch 34/50\n",
            "316/316 [==============================] - 49s 154ms/step - loss: 23.7912 - val_loss: 39.1161\n",
            "Epoch 35/50\n",
            "316/316 [==============================] - 49s 154ms/step - loss: 23.6182 - val_loss: 43.7071\n",
            "Epoch 36/50\n",
            "316/316 [==============================] - 52s 164ms/step - loss: 23.5409 - val_loss: 36.5568\n",
            "Epoch 37/50\n",
            "316/316 [==============================] - 49s 154ms/step - loss: 23.5932 - val_loss: 36.6356\n",
            "Epoch 38/50\n",
            "316/316 [==============================] - 49s 154ms/step - loss: 23.4051 - val_loss: 38.9833\n",
            "Epoch 39/50\n",
            "316/316 [==============================] - 49s 154ms/step - loss: 23.3169 - val_loss: 40.0415\n",
            "Epoch 40/50\n",
            "316/316 [==============================] - 49s 154ms/step - loss: 23.0575 - val_loss: 38.0819\n",
            "Epoch 41/50\n",
            "316/316 [==============================] - 49s 154ms/step - loss: 23.1448 - val_loss: 38.3766\n",
            "Epoch 42/50\n",
            "316/316 [==============================] - 49s 154ms/step - loss: 23.1742 - val_loss: 37.3028\n",
            "Epoch 43/50\n",
            "316/316 [==============================] - 49s 154ms/step - loss: 22.8713 - val_loss: 37.4673\n",
            "Epoch 44/50\n",
            "316/316 [==============================] - 49s 154ms/step - loss: 22.7996 - val_loss: 36.6441\n",
            "Epoch 45/50\n",
            "316/316 [==============================] - 49s 154ms/step - loss: 22.6777 - val_loss: 40.6078\n",
            "Epoch 46/50\n",
            "316/316 [==============================] - 49s 154ms/step - loss: 22.6074 - val_loss: 37.3252\n",
            "Epoch 47/50\n",
            "316/316 [==============================] - 49s 154ms/step - loss: 22.4235 - val_loss: 37.8652\n",
            "Epoch 48/50\n",
            "316/316 [==============================] - 49s 154ms/step - loss: 22.3979 - val_loss: 38.6548\n",
            "Epoch 49/50\n",
            "316/316 [==============================] - 49s 154ms/step - loss: 22.1381 - val_loss: 38.0108\n",
            "Epoch 50/50\n",
            "316/316 [==============================] - 49s 154ms/step - loss: 22.3529 - val_loss: 41.8132\n"
          ],
          "name": "stdout"
        }
      ]
    },
    {
      "cell_type": "code",
      "metadata": {
        "id": "aBW8toDNFEF4",
        "colab_type": "code",
        "colab": {
          "base_uri": "https://localhost:8080/",
          "height": 265
        },
        "outputId": "b24a2654-a086-44f1-9eed-1a648572db31"
      },
      "source": [
        "# 학습 과정에서의 loss와 val_loss 시각화\n",
        "import matplotlib.pyplot as plt\n",
        "\n",
        "plt.plot(history.history['loss'])                                                                                                                                                                                                                                                                                                                                                                                                                                                                                                                                                                                                                                                                                                                                                                                                                                                                                                                                                                                                                                                                                                                                                                                                                                                                                                                                                                                                                                                                                                                                                                                                                                                                                                                                                                                                                                                                                                                                                                                                                                                                                                                                                                                                                                                                                                                                                                                                                                                                                                                                                         \n",
        "plt.plot(history.history['val_loss'])\n",
        "plt.legend(['loss', 'val_loss'])\n",
        "plt.show()"
      ],
      "execution_count": null,
      "outputs": [
        {
          "output_type": "display_data",
          "data": {
            "image/png": "[encoded data removed]",
            "text/plain": [
              "<Figure size 432x288 with 1 Axes>"
            ]
          },
          "metadata": {
            "tags": [],
            "needs_background": "light"
          }
        }
      ]
    },
    {
      "cell_type": "code",
      "metadata": {
        "id": "cxnrCrtvavG5",
        "colab_type": "code",
        "colab": {
          "base_uri": "https://localhost:8080/",
          "height": 669
        },
        "outputId": "8762217d-3526-4099-e269-b20cc9f6ed6b"
      },
      "source": [
        "# 예측값과 정답값을 비교\n",
        "load_model = tf.keras.models.load_model(\"./drive/My Drive/양재 팀프로젝트/뼈 나이 측정/checkpoint_layer.h5\")\n",
        "\n",
        "predict = load_model.predict_generator(valid_generator).flatten()\n",
        "\n",
        "compare = pd.DataFrame({\"id\" : valid_df[\"id\"].tolist(),\n",
        "                        \"예측\" : predict,\n",
        "                        \"정답\" : valid_generator.y.flatten()})\n",
        "compare.head(20)"
      ],
      "execution_count": null,
      "outputs": [
        {
          "output_type": "execute_result",
          "data": {
            "text/html": [
              "<div>\n",
              "<style scoped>\n",
              "    .dataframe tbody tr th:only-of-type {\n",
              "        vertical-align: middle;\n",
              "    }\n",
              "\n",
              "    .dataframe tbody tr th {\n",
              "        vertical-align: top;\n",
              "    }\n",
              "\n",
              "    .dataframe thead th {\n",
              "        text-align: right;\n",
              "    }\n",
              "</style>\n",
              "<table border=\"1\" class=\"dataframe\">\n",
              "  <thead>\n",
              "    <tr style=\"text-align: right;\">\n",
              "      <th></th>\n",
              "      <th>id</th>\n",
              "      <th>예측</th>\n",
              "      <th>정답</th>\n",
              "    </tr>\n",
              "  </thead>\n",
              "  <tbody>\n",
              "    <tr>\n",
              "      <th>0</th>\n",
              "      <td>1377.png</td>\n",
              "      <td>139.706482</td>\n",
              "      <td>180.0</td>\n",
              "    </tr>\n",
              "    <tr>\n",
              "      <th>1</th>\n",
              "      <td>1378.png</td>\n",
              "      <td>135.087418</td>\n",
              "      <td>12.0</td>\n",
              "    </tr>\n",
              "    <tr>\n",
              "      <th>2</th>\n",
              "      <td>1379.png</td>\n",
              "      <td>130.101868</td>\n",
              "      <td>94.0</td>\n",
              "    </tr>\n",
              "    <tr>\n",
              "      <th>3</th>\n",
              "      <td>1380.png</td>\n",
              "      <td>150.143066</td>\n",
              "      <td>120.0</td>\n",
              "    </tr>\n",
              "    <tr>\n",
              "      <th>4</th>\n",
              "      <td>1381.png</td>\n",
              "      <td>135.029083</td>\n",
              "      <td>82.0</td>\n",
              "    </tr>\n",
              "    <tr>\n",
              "      <th>5</th>\n",
              "      <td>1382.png</td>\n",
              "      <td>156.638992</td>\n",
              "      <td>138.0</td>\n",
              "    </tr>\n",
              "    <tr>\n",
              "      <th>6</th>\n",
              "      <td>1383.png</td>\n",
              "      <td>149.848480</td>\n",
              "      <td>150.0</td>\n",
              "    </tr>\n",
              "    <tr>\n",
              "      <th>7</th>\n",
              "      <td>1384.png</td>\n",
              "      <td>138.103683</td>\n",
              "      <td>156.0</td>\n",
              "    </tr>\n",
              "    <tr>\n",
              "      <th>8</th>\n",
              "      <td>1385.png</td>\n",
              "      <td>144.997269</td>\n",
              "      <td>36.0</td>\n",
              "    </tr>\n",
              "    <tr>\n",
              "      <th>9</th>\n",
              "      <td>1387.png</td>\n",
              "      <td>161.120224</td>\n",
              "      <td>138.0</td>\n",
              "    </tr>\n",
              "    <tr>\n",
              "      <th>10</th>\n",
              "      <td>1388.png</td>\n",
              "      <td>126.119347</td>\n",
              "      <td>126.0</td>\n",
              "    </tr>\n",
              "    <tr>\n",
              "      <th>11</th>\n",
              "      <td>1389.png</td>\n",
              "      <td>158.802139</td>\n",
              "      <td>138.0</td>\n",
              "    </tr>\n",
              "    <tr>\n",
              "      <th>12</th>\n",
              "      <td>1390.png</td>\n",
              "      <td>159.028870</td>\n",
              "      <td>156.0</td>\n",
              "    </tr>\n",
              "    <tr>\n",
              "      <th>13</th>\n",
              "      <td>1391.png</td>\n",
              "      <td>162.260605</td>\n",
              "      <td>180.0</td>\n",
              "    </tr>\n",
              "    <tr>\n",
              "      <th>14</th>\n",
              "      <td>1393.png</td>\n",
              "      <td>135.238174</td>\n",
              "      <td>132.0</td>\n",
              "    </tr>\n",
              "    <tr>\n",
              "      <th>15</th>\n",
              "      <td>1394.png</td>\n",
              "      <td>129.974075</td>\n",
              "      <td>57.0</td>\n",
              "    </tr>\n",
              "    <tr>\n",
              "      <th>16</th>\n",
              "      <td>1395.png</td>\n",
              "      <td>128.825500</td>\n",
              "      <td>120.0</td>\n",
              "    </tr>\n",
              "    <tr>\n",
              "      <th>17</th>\n",
              "      <td>1396.png</td>\n",
              "      <td>110.499390</td>\n",
              "      <td>188.0</td>\n",
              "    </tr>\n",
              "    <tr>\n",
              "      <th>18</th>\n",
              "      <td>1398.png</td>\n",
              "      <td>135.097687</td>\n",
              "      <td>4.0</td>\n",
              "    </tr>\n",
              "    <tr>\n",
              "      <th>19</th>\n",
              "      <td>1399.png</td>\n",
              "      <td>132.180237</td>\n",
              "      <td>36.0</td>\n",
              "    </tr>\n",
              "  </tbody>\n",
              "</table>\n",
              "</div>"
            ],
            "text/plain": [
              "          id          예측     정답\n",
              "0   1377.png  139.706482  180.0\n",
              "1   1378.png  135.087418   12.0\n",
              "2   1379.png  130.101868   94.0\n",
              "3   1380.png  150.143066  120.0\n",
              "4   1381.png  135.029083   82.0\n",
              "5   1382.png  156.638992  138.0\n",
              "6   1383.png  149.848480  150.0\n",
              "7   1384.png  138.103683  156.0\n",
              "8   1385.png  144.997269   36.0\n",
              "9   1387.png  161.120224  138.0\n",
              "10  1388.png  126.119347  126.0\n",
              "11  1389.png  158.802139  138.0\n",
              "12  1390.png  159.028870  156.0\n",
              "13  1391.png  162.260605  180.0\n",
              "14  1393.png  135.238174  132.0\n",
              "15  1394.png  129.974075   57.0\n",
              "16  1395.png  128.825500  120.0\n",
              "17  1396.png  110.499390  188.0\n",
              "18  1398.png  135.097687    4.0\n",
              "19  1399.png  132.180237   36.0"
            ]
          },
          "metadata": {
            "tags": []
          },
          "execution_count": 30
        }
      ]
    },
    {
      "cell_type": "code",
      "metadata": {
        "id": "MGot_rYjazJn",
        "colab_type": "code",
        "colab": {
          "base_uri": "https://localhost:8080/",
          "height": 279
        },
        "outputId": "2601380d-004b-498c-af3d-e77036eee225"
      },
      "source": [
        "# 최종 결과값과 예측값 비교 시각화\n",
        "import matplotlib.pyplot as plt\n",
        "\n",
        "plt.scatter(valid_generator.y.flatten(), predict, color='b', s=3)\n",
        "plt.plot(valid_generator.y, valid_generator.y, 'r')\n",
        "plt.xlabel(\"Answer\")\n",
        "plt.ylabel(\"Prediction\")\n",
        "plt.show()"
      ],
      "execution_count": null,
      "outputs": [
        {
          "output_type": "display_data",
          "data": {
            "image/png": "[encoded data removed]",
            "text/plain": [
              "<Figure size 432x288 with 1 Axes>"
            ]
          },
          "metadata": {
            "tags": [],
            "needs_background": "light"
          }
        }
      ]
    }
  ]
}