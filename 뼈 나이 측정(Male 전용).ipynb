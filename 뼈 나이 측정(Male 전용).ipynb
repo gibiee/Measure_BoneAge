{
  "nbformat": 4,
  "nbformat_minor": 0,
  "metadata": {
    "colab": {
      "name": "뼈 나이 측정 (Male 전용)",
      "provenance": [],
      "collapsed_sections": [],
      "machine_shape": "hm",
      "include_colab_link": true
    },
    "kernelspec": {
      "name": "python3",
      "display_name": "Python 3"
    },
    "accelerator": "GPU"
  },
  "cells": [
    {
      "cell_type": "markdown",
      "metadata": {
        "id": "view-in-github",
        "colab_type": "text"
      },
      "source": [
        "<a href=\"https://colab.research.google.com/github/gibiee/Measure_BoneAge/blob/master/%EB%BC%88%20%EB%82%98%EC%9D%B4%20%EC%B8%A1%EC%A0%95(Male%20%EC%A0%84%EC%9A%A9).ipynb\" target=\"_parent\"><img src=\"https://colab.research.google.com/assets/colab-badge.svg\" alt=\"Open In Colab\"/></a>"
      ]
    },
    {
      "cell_type": "code",
      "metadata": {
        "id": "-Mx7Z7gNV2lw",
        "colab_type": "code",
        "colab": {}
      },
      "source": [
        "from google.colab import drive\n",
        "drive.mount('/content/drive')"
      ],
      "execution_count": null,
      "outputs": []
    },
    {
      "cell_type": "code",
      "metadata": {
        "id": "GW1KZsqX2veH",
        "colab_type": "code",
        "colab": {
          "base_uri": "https://localhost:8080/",
          "height": 35
        },
        "outputId": "b51414de-a84a-4654-91e8-2bd128fa711b"
      },
      "source": [
        "!unzip -q \"./drive/My Drive/양재 팀프로젝트/뼈 나이 측정/BoneAge_Dataset.zip\" -d dataset\n",
        "!ls"
      ],
      "execution_count": null,
      "outputs": [
        {
          "output_type": "stream",
          "text": [
            "dataset  drive\tsample_data\n"
          ],
          "name": "stdout"
        }
      ]
    },
    {
      "cell_type": "code",
      "metadata": {
        "id": "MUI2rI_KoEU9",
        "colab_type": "code",
        "colab": {}
      },
      "source": [
        "import tensorflow as tf\n",
        "\n",
        "# male_model = tf.keras.applications.Xception(weights=None, include_top=True, input_shape=(224,224,1), classes=1, classifier_activation=None)\n",
        "male_model = tf.keras.applications.InceptionV3(weights=None, include_top=True, input_shape=(224,224,1), classes=1, classifier_activation=None)\n",
        "\n",
        "# print(model.summary())"
      ],
      "execution_count": null,
      "outputs": []
    },
    {
      "cell_type": "code",
      "metadata": {
        "id": "-bE-v5UR1QWq",
        "colab_type": "code",
        "colab": {}
      },
      "source": [
        "# #'''\n",
        "# # 각 레이어에서 어떤 activation function을 쓰는지 확인\n",
        "# for layer in model.layers :\n",
        "#     try :\n",
        "#         print(layer.activation)\n",
        "#     except:\n",
        "#         print(\"Activation function 없음\")\n",
        "# '''"
      ],
      "execution_count": null,
      "outputs": []
    },
    {
      "cell_type": "code",
      "metadata": {
        "id": "w7t7mzeEoEa1",
        "colab_type": "code",
        "colab": {}
      },
      "source": [
        "male_model.compile(loss='mae', optimizer='adam')"
      ],
      "execution_count": null,
      "outputs": []
    },
    {
      "cell_type": "code",
      "metadata": {
        "id": "7AcAOJ3PveDq",
        "colab_type": "code",
        "colab": {
          "base_uri": "https://localhost:8080/",
          "height": 204
        },
        "outputId": "0c1fd095-1b0c-4815-8260-6d19efb255cf"
      },
      "source": [
        "import pandas as pd\n",
        "\n",
        "csv_train=pd.read_csv('./dataset/train_csv.csv')\n",
        "csv_train.head()"
      ],
      "execution_count": null,
      "outputs": [
        {
          "output_type": "execute_result",
          "data": {
            "text/html": [
              "<div>\n",
              "<style scoped>\n",
              "    .dataframe tbody tr th:only-of-type {\n",
              "        vertical-align: middle;\n",
              "    }\n",
              "\n",
              "    .dataframe tbody tr th {\n",
              "        vertical-align: top;\n",
              "    }\n",
              "\n",
              "    .dataframe thead th {\n",
              "        text-align: right;\n",
              "    }\n",
              "</style>\n",
              "<table border=\"1\" class=\"dataframe\">\n",
              "  <thead>\n",
              "    <tr style=\"text-align: right;\">\n",
              "      <th></th>\n",
              "      <th>id</th>\n",
              "      <th>boneage</th>\n",
              "      <th>male</th>\n",
              "    </tr>\n",
              "  </thead>\n",
              "  <tbody>\n",
              "    <tr>\n",
              "      <th>0</th>\n",
              "      <td>1377</td>\n",
              "      <td>180</td>\n",
              "      <td>False</td>\n",
              "    </tr>\n",
              "    <tr>\n",
              "      <th>1</th>\n",
              "      <td>1378</td>\n",
              "      <td>12</td>\n",
              "      <td>False</td>\n",
              "    </tr>\n",
              "    <tr>\n",
              "      <th>2</th>\n",
              "      <td>1379</td>\n",
              "      <td>94</td>\n",
              "      <td>False</td>\n",
              "    </tr>\n",
              "    <tr>\n",
              "      <th>3</th>\n",
              "      <td>1380</td>\n",
              "      <td>120</td>\n",
              "      <td>True</td>\n",
              "    </tr>\n",
              "    <tr>\n",
              "      <th>4</th>\n",
              "      <td>1381</td>\n",
              "      <td>82</td>\n",
              "      <td>False</td>\n",
              "    </tr>\n",
              "  </tbody>\n",
              "</table>\n",
              "</div>"
            ],
            "text/plain": [
              "     id  boneage   male\n",
              "0  1377      180  False\n",
              "1  1378       12  False\n",
              "2  1379       94  False\n",
              "3  1380      120   True\n",
              "4  1381       82  False"
            ]
          },
          "metadata": {
            "tags": []
          },
          "execution_count": 5
        }
      ]
    },
    {
      "cell_type": "code",
      "metadata": {
        "id": "Cra-072-xYW_",
        "colab_type": "code",
        "colab": {
          "base_uri": "https://localhost:8080/",
          "height": 204
        },
        "outputId": "2795a77f-5b54-4c8b-fdb9-1a632272bbca"
      },
      "source": [
        "for i in range(len(csv_train['id'])):\n",
        "  csv_train.loc[i,\"id\"] = f\"{csv_train['id'][i]}.png\"\n",
        "\n",
        "csv_train.head()"
      ],
      "execution_count": null,
      "outputs": [
        {
          "output_type": "execute_result",
          "data": {
            "text/html": [
              "<div>\n",
              "<style scoped>\n",
              "    .dataframe tbody tr th:only-of-type {\n",
              "        vertical-align: middle;\n",
              "    }\n",
              "\n",
              "    .dataframe tbody tr th {\n",
              "        vertical-align: top;\n",
              "    }\n",
              "\n",
              "    .dataframe thead th {\n",
              "        text-align: right;\n",
              "    }\n",
              "</style>\n",
              "<table border=\"1\" class=\"dataframe\">\n",
              "  <thead>\n",
              "    <tr style=\"text-align: right;\">\n",
              "      <th></th>\n",
              "      <th>id</th>\n",
              "      <th>boneage</th>\n",
              "      <th>male</th>\n",
              "    </tr>\n",
              "  </thead>\n",
              "  <tbody>\n",
              "    <tr>\n",
              "      <th>0</th>\n",
              "      <td>1377.png</td>\n",
              "      <td>180</td>\n",
              "      <td>False</td>\n",
              "    </tr>\n",
              "    <tr>\n",
              "      <th>1</th>\n",
              "      <td>1378.png</td>\n",
              "      <td>12</td>\n",
              "      <td>False</td>\n",
              "    </tr>\n",
              "    <tr>\n",
              "      <th>2</th>\n",
              "      <td>1379.png</td>\n",
              "      <td>94</td>\n",
              "      <td>False</td>\n",
              "    </tr>\n",
              "    <tr>\n",
              "      <th>3</th>\n",
              "      <td>1380.png</td>\n",
              "      <td>120</td>\n",
              "      <td>True</td>\n",
              "    </tr>\n",
              "    <tr>\n",
              "      <th>4</th>\n",
              "      <td>1381.png</td>\n",
              "      <td>82</td>\n",
              "      <td>False</td>\n",
              "    </tr>\n",
              "  </tbody>\n",
              "</table>\n",
              "</div>"
            ],
            "text/plain": [
              "         id  boneage   male\n",
              "0  1377.png      180  False\n",
              "1  1378.png       12  False\n",
              "2  1379.png       94  False\n",
              "3  1380.png      120   True\n",
              "4  1381.png       82  False"
            ]
          },
          "metadata": {
            "tags": []
          },
          "execution_count": 6
        }
      ]
    },
    {
      "cell_type": "code",
      "metadata": {
        "id": "YUlQ0U_pZuA7",
        "colab_type": "code",
        "colab": {
          "base_uri": "https://localhost:8080/",
          "height": 204
        },
        "outputId": "bcc92e53-e9ea-4c40-e285-ad3bee502050"
      },
      "source": [
        "male_df = csv_train.loc[csv_train.male == True]\n",
        "male_df.head()"
      ],
      "execution_count": null,
      "outputs": [
        {
          "output_type": "execute_result",
          "data": {
            "text/html": [
              "<div>\n",
              "<style scoped>\n",
              "    .dataframe tbody tr th:only-of-type {\n",
              "        vertical-align: middle;\n",
              "    }\n",
              "\n",
              "    .dataframe tbody tr th {\n",
              "        vertical-align: top;\n",
              "    }\n",
              "\n",
              "    .dataframe thead th {\n",
              "        text-align: right;\n",
              "    }\n",
              "</style>\n",
              "<table border=\"1\" class=\"dataframe\">\n",
              "  <thead>\n",
              "    <tr style=\"text-align: right;\">\n",
              "      <th></th>\n",
              "      <th>id</th>\n",
              "      <th>boneage</th>\n",
              "      <th>male</th>\n",
              "    </tr>\n",
              "  </thead>\n",
              "  <tbody>\n",
              "    <tr>\n",
              "      <th>3</th>\n",
              "      <td>1380.png</td>\n",
              "      <td>120</td>\n",
              "      <td>True</td>\n",
              "    </tr>\n",
              "    <tr>\n",
              "      <th>5</th>\n",
              "      <td>1382.png</td>\n",
              "      <td>138</td>\n",
              "      <td>True</td>\n",
              "    </tr>\n",
              "    <tr>\n",
              "      <th>6</th>\n",
              "      <td>1383.png</td>\n",
              "      <td>150</td>\n",
              "      <td>True</td>\n",
              "    </tr>\n",
              "    <tr>\n",
              "      <th>7</th>\n",
              "      <td>1384.png</td>\n",
              "      <td>156</td>\n",
              "      <td>True</td>\n",
              "    </tr>\n",
              "    <tr>\n",
              "      <th>8</th>\n",
              "      <td>1385.png</td>\n",
              "      <td>36</td>\n",
              "      <td>True</td>\n",
              "    </tr>\n",
              "  </tbody>\n",
              "</table>\n",
              "</div>"
            ],
            "text/plain": [
              "         id  boneage  male\n",
              "3  1380.png      120  True\n",
              "5  1382.png      138  True\n",
              "6  1383.png      150  True\n",
              "7  1384.png      156  True\n",
              "8  1385.png       36  True"
            ]
          },
          "metadata": {
            "tags": []
          },
          "execution_count": 7
        }
      ]
    },
    {
      "cell_type": "code",
      "metadata": {
        "id": "MzbJg4NgBro-",
        "colab_type": "code",
        "colab": {
          "base_uri": "https://localhost:8080/",
          "height": 35
        },
        "outputId": "e698b84d-3e0c-4cfa-de7e-e2cecba7c9da"
      },
      "source": [
        "len(male_df)"
      ],
      "execution_count": null,
      "outputs": [
        {
          "output_type": "execute_result",
          "data": {
            "text/plain": [
              "6833"
            ]
          },
          "metadata": {
            "tags": []
          },
          "execution_count": 8
        }
      ]
    },
    {
      "cell_type": "code",
      "metadata": {
        "id": "-2nW0QyN5Qnx",
        "colab_type": "code",
        "colab": {
          "base_uri": "https://localhost:8080/",
          "height": 53
        },
        "outputId": "8331d4ee-a595-450b-b773-6851da7dfc19"
      },
      "source": [
        "from tensorflow.keras.preprocessing.image import ImageDataGenerator\n",
        "\n",
        "datagen = ImageDataGenerator(rescale=1./255, validation_split=0.2)\n",
        "\n",
        "train_generator = datagen.flow_from_dataframe(male_df, directory='./dataset/train/', x_col='id', y_col='boneage',\n",
        "                                              target_size=(224,224), color_mode='grayscale',\n",
        "                                              class_mode='raw', subset='training')\n",
        "valid_generator = datagen.flow_from_dataframe(male_df, directory='./dataset/train/', x_col='id', y_col='boneage',\n",
        "                                              target_size=(224,224), color_mode='grayscale', \n",
        "                                              class_mode='raw', subset='validation', shuffle=False)"
      ],
      "execution_count": null,
      "outputs": [
        {
          "output_type": "stream",
          "text": [
            "Found 5467 validated image filenames.\n",
            "Found 1366 validated image filenames.\n"
          ],
          "name": "stdout"
        }
      ]
    },
    {
      "cell_type": "code",
      "metadata": {
        "id": "NZhRXChZ5Vkm",
        "colab_type": "code",
        "colab": {
          "base_uri": "https://localhost:8080/",
          "height": 1000
        },
        "outputId": "f8f6171e-7bfe-40ef-8018-3452554359e5"
      },
      "source": [
        "checkpoint = tf.keras.callbacks.ModelCheckpoint(monitor='val_loss', save_best_only=True,\n",
        "                                                filepath=\"./drive/My Drive/양재 팀프로젝트/뼈 나이 측정/checkpoint_male.h5\")\n",
        "\n",
        "early_stopping = tf.keras.callbacks.EarlyStopping(monitor='val_loss', patience=10)\n",
        "history = male_model.fit_generator(train_generator, validation_data=valid_generator, epochs=100, callbacks=[checkpoint, early_stopping])"
      ],
      "execution_count": null,
      "outputs": [
        {
          "output_type": "stream",
          "text": [
            "WARNING:tensorflow:From <ipython-input-10-712b6b35835a>:5: Model.fit_generator (from tensorflow.python.keras.engine.training) is deprecated and will be removed in a future version.\n",
            "Instructions for updating:\n",
            "Please use Model.fit, which supports generators.\n",
            "Epoch 1/100\n",
            "171/171 [==============================] - ETA: 0s - loss: 62.0989WARNING:tensorflow:From /usr/local/lib/python3.6/dist-packages/tensorflow/python/training/tracking/tracking.py:111: Model.state_updates (from tensorflow.python.keras.engine.training) is deprecated and will be removed in a future version.\n",
            "Instructions for updating:\n",
            "This property should not be used in TensorFlow 2.0, as updates are applied automatically.\n",
            "WARNING:tensorflow:From /usr/local/lib/python3.6/dist-packages/tensorflow/python/training/tracking/tracking.py:111: Layer.updates (from tensorflow.python.keras.engine.base_layer) is deprecated and will be removed in a future version.\n",
            "Instructions for updating:\n",
            "This property should not be used in TensorFlow 2.0, as updates are applied automatically.\n",
            "INFO:tensorflow:Assets written to: ./drive/My Drive/양재 팀프로젝트/뼈 나이 측정/checkpoint_male.tf/assets\n",
            "171/171 [==============================] - 254s 1s/step - loss: 62.0989 - val_loss: 36.7007\n",
            "Epoch 2/100\n",
            "171/171 [==============================] - 200s 1s/step - loss: 17.8929 - val_loss: 72.9564\n",
            "Epoch 3/100\n",
            "171/171 [==============================] - ETA: 0s - loss: 15.0015INFO:tensorflow:Assets written to: ./drive/My Drive/양재 팀프로젝트/뼈 나이 측정/checkpoint_male.tf/assets\n",
            "171/171 [==============================] - 225s 1s/step - loss: 15.0015 - val_loss: 36.2276\n",
            "Epoch 4/100\n",
            "171/171 [==============================] - ETA: 0s - loss: 13.9029INFO:tensorflow:Assets written to: ./drive/My Drive/양재 팀프로젝트/뼈 나이 측정/checkpoint_male.tf/assets\n",
            "171/171 [==============================] - 223s 1s/step - loss: 13.9029 - val_loss: 35.7939\n",
            "Epoch 5/100\n",
            "171/171 [==============================] - 191s 1s/step - loss: 12.4121 - val_loss: 37.6997\n",
            "Epoch 6/100\n",
            "171/171 [==============================] - ETA: 0s - loss: 12.3386INFO:tensorflow:Assets written to: ./drive/My Drive/양재 팀프로젝트/뼈 나이 측정/checkpoint_male.tf/assets\n",
            "171/171 [==============================] - 224s 1s/step - loss: 12.3386 - val_loss: 30.1007\n",
            "Epoch 7/100\n",
            "171/171 [==============================] - 191s 1s/step - loss: 11.6697 - val_loss: 31.0302\n",
            "Epoch 8/100\n",
            "171/171 [==============================] - 193s 1s/step - loss: 10.8347 - val_loss: 30.4347\n",
            "Epoch 9/100\n",
            "171/171 [==============================] - 192s 1s/step - loss: 10.8427 - val_loss: 30.9261\n",
            "Epoch 10/100\n",
            "171/171 [==============================] - 192s 1s/step - loss: 10.3855 - val_loss: 35.8992\n",
            "Epoch 11/100\n",
            "171/171 [==============================] - 192s 1s/step - loss: 10.1969 - val_loss: 30.3557\n",
            "Epoch 12/100\n",
            "171/171 [==============================] - 192s 1s/step - loss: 9.8756 - val_loss: 34.1544\n",
            "Epoch 13/100\n",
            "171/171 [==============================] - 193s 1s/step - loss: 9.6696 - val_loss: 30.3566\n",
            "Epoch 14/100\n",
            "171/171 [==============================] - ETA: 0s - loss: 9.3852INFO:tensorflow:Assets written to: ./drive/My Drive/양재 팀프로젝트/뼈 나이 측정/checkpoint_male.tf/assets\n",
            "171/171 [==============================] - 226s 1s/step - loss: 9.3852 - val_loss: 28.5184\n",
            "Epoch 15/100\n",
            "171/171 [==============================] - ETA: 0s - loss: 9.4329INFO:tensorflow:Assets written to: ./drive/My Drive/양재 팀프로젝트/뼈 나이 측정/checkpoint_male.tf/assets\n",
            "171/171 [==============================] - 227s 1s/step - loss: 9.4329 - val_loss: 27.9425\n",
            "Epoch 16/100\n",
            "171/171 [==============================] - ETA: 0s - loss: 8.9725INFO:tensorflow:Assets written to: ./drive/My Drive/양재 팀프로젝트/뼈 나이 측정/checkpoint_male.tf/assets\n",
            "171/171 [==============================] - 228s 1s/step - loss: 8.9725 - val_loss: 22.9343\n",
            "Epoch 17/100\n",
            "171/171 [==============================] - 195s 1s/step - loss: 8.4073 - val_loss: 28.9672\n",
            "Epoch 18/100\n",
            "171/171 [==============================] - ETA: 0s - loss: 7.9688INFO:tensorflow:Assets written to: ./drive/My Drive/양재 팀프로젝트/뼈 나이 측정/checkpoint_male.tf/assets\n",
            "171/171 [==============================] - 228s 1s/step - loss: 7.9688 - val_loss: 19.5750\n",
            "Epoch 19/100\n",
            "171/171 [==============================] - ETA: 0s - loss: 7.9549INFO:tensorflow:Assets written to: ./drive/My Drive/양재 팀프로젝트/뼈 나이 측정/checkpoint_male.tf/assets\n",
            "171/171 [==============================] - 229s 1s/step - loss: 7.9549 - val_loss: 19.2070\n",
            "Epoch 20/100\n",
            "171/171 [==============================] - 195s 1s/step - loss: 7.4822 - val_loss: 19.9516\n",
            "Epoch 21/100\n",
            "171/171 [==============================] - 192s 1s/step - loss: 7.5333 - val_loss: 22.2027\n",
            "Epoch 22/100\n",
            "171/171 [==============================] - 194s 1s/step - loss: 7.0453 - val_loss: 23.1226\n",
            "Epoch 23/100\n",
            "171/171 [==============================] - ETA: 0s - loss: 6.6752INFO:tensorflow:Assets written to: ./drive/My Drive/양재 팀프로젝트/뼈 나이 측정/checkpoint_male.tf/assets\n",
            "171/171 [==============================] - 225s 1s/step - loss: 6.6752 - val_loss: 18.6549\n",
            "Epoch 24/100\n",
            "171/171 [==============================] - 193s 1s/step - loss: 6.9283 - val_loss: 19.5206\n",
            "Epoch 25/100\n",
            "171/171 [==============================] - 194s 1s/step - loss: 6.3763 - val_loss: 19.2157\n",
            "Epoch 26/100\n",
            "171/171 [==============================] - ETA: 0s - loss: 6.3015INFO:tensorflow:Assets written to: ./drive/My Drive/양재 팀프로젝트/뼈 나이 측정/checkpoint_male.tf/assets\n",
            "171/171 [==============================] - 227s 1s/step - loss: 6.3015 - val_loss: 18.0765\n",
            "Epoch 27/100\n",
            "171/171 [==============================] - ETA: 0s - loss: 6.1728INFO:tensorflow:Assets written to: ./drive/My Drive/양재 팀프로젝트/뼈 나이 측정/checkpoint_male.tf/assets\n",
            "171/171 [==============================] - 228s 1s/step - loss: 6.1728 - val_loss: 16.3502\n",
            "Epoch 28/100\n",
            "171/171 [==============================] - ETA: 0s - loss: 5.7357INFO:tensorflow:Assets written to: ./drive/My Drive/양재 팀프로젝트/뼈 나이 측정/checkpoint_male.tf/assets\n",
            "171/171 [==============================] - 227s 1s/step - loss: 5.7357 - val_loss: 15.5523\n",
            "Epoch 29/100\n",
            "171/171 [==============================] - 195s 1s/step - loss: 5.7934 - val_loss: 16.1705\n",
            "Epoch 30/100\n",
            "171/171 [==============================] - 196s 1s/step - loss: 5.5737 - val_loss: 16.4888\n",
            "Epoch 31/100\n",
            "171/171 [==============================] - 195s 1s/step - loss: 5.3567 - val_loss: 15.9061\n",
            "Epoch 32/100\n",
            "171/171 [==============================] - 196s 1s/step - loss: 5.4886 - val_loss: 18.2177\n",
            "Epoch 33/100\n",
            "171/171 [==============================] - 199s 1s/step - loss: 5.1197 - val_loss: 16.7576\n",
            "Epoch 34/100\n",
            "171/171 [==============================] - 199s 1s/step - loss: 5.1209 - val_loss: 19.6312\n",
            "Epoch 35/100\n",
            "171/171 [==============================] - 198s 1s/step - loss: 5.2210 - val_loss: 16.1568\n",
            "Epoch 36/100\n",
            "171/171 [==============================] - ETA: 0s - loss: 4.9375INFO:tensorflow:Assets written to: ./drive/My Drive/양재 팀프로젝트/뼈 나이 측정/checkpoint_male.tf/assets\n",
            "171/171 [==============================] - 230s 1s/step - loss: 4.9375 - val_loss: 15.2973\n",
            "Epoch 37/100\n",
            "171/171 [==============================] - ETA: 0s - loss: 4.7376INFO:tensorflow:Assets written to: ./drive/My Drive/양재 팀프로젝트/뼈 나이 측정/checkpoint_male.tf/assets\n",
            "171/171 [==============================] - 230s 1s/step - loss: 4.7376 - val_loss: 15.2279\n",
            "Epoch 38/100\n",
            "171/171 [==============================] - 196s 1s/step - loss: 4.6606 - val_loss: 17.6018\n",
            "Epoch 39/100\n",
            "171/171 [==============================] - ETA: 0s - loss: 4.5342INFO:tensorflow:Assets written to: ./drive/My Drive/양재 팀프로젝트/뼈 나이 측정/checkpoint_male.tf/assets\n",
            "171/171 [==============================] - 229s 1s/step - loss: 4.5342 - val_loss: 13.3120\n",
            "Epoch 40/100\n",
            "171/171 [==============================] - 194s 1s/step - loss: 4.4623 - val_loss: 14.5848\n",
            "Epoch 41/100\n",
            "171/171 [==============================] - 194s 1s/step - loss: 4.3542 - val_loss: 15.1646\n",
            "Epoch 42/100\n",
            "171/171 [==============================] - 193s 1s/step - loss: 4.2363 - val_loss: 15.9548\n",
            "Epoch 43/100\n",
            "171/171 [==============================] - 192s 1s/step - loss: 3.9937 - val_loss: 16.5656\n",
            "Epoch 44/100\n",
            "171/171 [==============================] - 192s 1s/step - loss: 4.2414 - val_loss: 14.1108\n",
            "Epoch 45/100\n",
            "171/171 [==============================] - 192s 1s/step - loss: 3.9932 - val_loss: 15.4040\n",
            "Epoch 46/100\n",
            "171/171 [==============================] - 191s 1s/step - loss: 3.8738 - val_loss: 14.9187\n",
            "Epoch 47/100\n",
            "171/171 [==============================] - 192s 1s/step - loss: 3.9618 - val_loss: 15.3083\n",
            "Epoch 48/100\n",
            "171/171 [==============================] - 190s 1s/step - loss: 3.8903 - val_loss: 14.3802\n",
            "Epoch 49/100\n",
            "171/171 [==============================] - 190s 1s/step - loss: 3.7174 - val_loss: 15.1506\n"
          ],
          "name": "stdout"
        }
      ]
    },
    {
      "cell_type": "code",
      "metadata": {
        "id": "KH8wWViD5jpq",
        "colab_type": "code",
        "colab": {
          "base_uri": "https://localhost:8080/",
          "height": 265
        },
        "outputId": "e3e67ee5-5bb0-429f-e9f7-f4140c55524e"
      },
      "source": [
        "# 학습 과정에서의 loss와 val_loss 시각화\n",
        "import matplotlib.pyplot as plt\n",
        "\n",
        "plt.plot(history.history['loss'])\n",
        "plt.plot(history.history['val_loss'])\n",
        "plt.legend(['loss', 'val_loss'])\n",
        "plt.show()"
      ],
      "execution_count": null,
      "outputs": [
        {
          "output_type": "display_data",
          "data": {
            "image/png": "[encoded data removed]",
            "text/plain": [
              "<Figure size 432x288 with 1 Axes>"
            ]
          },
          "metadata": {
            "tags": [],
            "needs_background": "light"
          }
        }
      ]
    },
    {
      "cell_type": "code",
      "metadata": {
        "id": "Z8i9dox35oa1",
        "colab_type": "code",
        "colab": {
          "base_uri": "https://localhost:8080/",
          "height": 723
        },
        "outputId": "f34d67a0-75c8-427b-9eb1-2c7f57e3fce5"
      },
      "source": [
        "# 예측값과 정답값을 비교\n",
        "load_model = tf.keras.models.load_model(\"./drive/My Drive/양재 팀프로젝트/뼈 나이 측정/checkpoint_male.h5\")\n",
        "\n",
        "predict = load_model.predict_generator(valid_generator).flatten()\n",
        "\n",
        "compare = pd.DataFrame({\"id\" : valid_generator.filenames,\n",
        "                        \"예측\" : predict,\n",
        "                        \"정답\" : valid_generator.labels})\n",
        "compare.head(20)"
      ],
      "execution_count": null,
      "outputs": [
        {
          "output_type": "stream",
          "text": [
            "WARNING:tensorflow:From <ipython-input-13-56edcf802d88>:4: Model.predict_generator (from tensorflow.python.keras.engine.training) is deprecated and will be removed in a future version.\n",
            "Instructions for updating:\n",
            "Please use Model.predict, which supports generators.\n"
          ],
          "name": "stdout"
        },
        {
          "output_type": "execute_result",
          "data": {
            "text/html": [
              "<div>\n",
              "<style scoped>\n",
              "    .dataframe tbody tr th:only-of-type {\n",
              "        vertical-align: middle;\n",
              "    }\n",
              "\n",
              "    .dataframe tbody tr th {\n",
              "        vertical-align: top;\n",
              "    }\n",
              "\n",
              "    .dataframe thead th {\n",
              "        text-align: right;\n",
              "    }\n",
              "</style>\n",
              "<table border=\"1\" class=\"dataframe\">\n",
              "  <thead>\n",
              "    <tr style=\"text-align: right;\">\n",
              "      <th></th>\n",
              "      <th>id</th>\n",
              "      <th>예측</th>\n",
              "      <th>정답</th>\n",
              "    </tr>\n",
              "  </thead>\n",
              "  <tbody>\n",
              "    <tr>\n",
              "      <th>0</th>\n",
              "      <td>1380.png</td>\n",
              "      <td>157.439316</td>\n",
              "      <td>120</td>\n",
              "    </tr>\n",
              "    <tr>\n",
              "      <th>1</th>\n",
              "      <td>1382.png</td>\n",
              "      <td>146.490997</td>\n",
              "      <td>138</td>\n",
              "    </tr>\n",
              "    <tr>\n",
              "      <th>2</th>\n",
              "      <td>1383.png</td>\n",
              "      <td>152.178116</td>\n",
              "      <td>150</td>\n",
              "    </tr>\n",
              "    <tr>\n",
              "      <th>3</th>\n",
              "      <td>1384.png</td>\n",
              "      <td>126.375023</td>\n",
              "      <td>156</td>\n",
              "    </tr>\n",
              "    <tr>\n",
              "      <th>4</th>\n",
              "      <td>1385.png</td>\n",
              "      <td>28.077801</td>\n",
              "      <td>36</td>\n",
              "    </tr>\n",
              "    <tr>\n",
              "      <th>5</th>\n",
              "      <td>1387.png</td>\n",
              "      <td>136.836365</td>\n",
              "      <td>138</td>\n",
              "    </tr>\n",
              "    <tr>\n",
              "      <th>6</th>\n",
              "      <td>1389.png</td>\n",
              "      <td>145.586807</td>\n",
              "      <td>138</td>\n",
              "    </tr>\n",
              "    <tr>\n",
              "      <th>7</th>\n",
              "      <td>1390.png</td>\n",
              "      <td>162.727707</td>\n",
              "      <td>156</td>\n",
              "    </tr>\n",
              "    <tr>\n",
              "      <th>8</th>\n",
              "      <td>1391.png</td>\n",
              "      <td>182.268143</td>\n",
              "      <td>180</td>\n",
              "    </tr>\n",
              "    <tr>\n",
              "      <th>9</th>\n",
              "      <td>1394.png</td>\n",
              "      <td>92.945076</td>\n",
              "      <td>57</td>\n",
              "    </tr>\n",
              "    <tr>\n",
              "      <th>10</th>\n",
              "      <td>1408.png</td>\n",
              "      <td>151.865936</td>\n",
              "      <td>126</td>\n",
              "    </tr>\n",
              "    <tr>\n",
              "      <th>11</th>\n",
              "      <td>1409.png</td>\n",
              "      <td>161.396759</td>\n",
              "      <td>149</td>\n",
              "    </tr>\n",
              "    <tr>\n",
              "      <th>12</th>\n",
              "      <td>1414.png</td>\n",
              "      <td>77.641220</td>\n",
              "      <td>78</td>\n",
              "    </tr>\n",
              "    <tr>\n",
              "      <th>13</th>\n",
              "      <td>1417.png</td>\n",
              "      <td>170.345413</td>\n",
              "      <td>162</td>\n",
              "    </tr>\n",
              "    <tr>\n",
              "      <th>14</th>\n",
              "      <td>1419.png</td>\n",
              "      <td>143.757156</td>\n",
              "      <td>126</td>\n",
              "    </tr>\n",
              "    <tr>\n",
              "      <th>15</th>\n",
              "      <td>1420.png</td>\n",
              "      <td>126.845322</td>\n",
              "      <td>88</td>\n",
              "    </tr>\n",
              "    <tr>\n",
              "      <th>16</th>\n",
              "      <td>1422.png</td>\n",
              "      <td>35.118450</td>\n",
              "      <td>32</td>\n",
              "    </tr>\n",
              "    <tr>\n",
              "      <th>17</th>\n",
              "      <td>1424.png</td>\n",
              "      <td>130.857864</td>\n",
              "      <td>120</td>\n",
              "    </tr>\n",
              "    <tr>\n",
              "      <th>18</th>\n",
              "      <td>1425.png</td>\n",
              "      <td>146.181519</td>\n",
              "      <td>156</td>\n",
              "    </tr>\n",
              "    <tr>\n",
              "      <th>19</th>\n",
              "      <td>1426.png</td>\n",
              "      <td>105.893173</td>\n",
              "      <td>54</td>\n",
              "    </tr>\n",
              "  </tbody>\n",
              "</table>\n",
              "</div>"
            ],
            "text/plain": [
              "          id          예측   정답\n",
              "0   1380.png  157.439316  120\n",
              "1   1382.png  146.490997  138\n",
              "2   1383.png  152.178116  150\n",
              "3   1384.png  126.375023  156\n",
              "4   1385.png   28.077801   36\n",
              "5   1387.png  136.836365  138\n",
              "6   1389.png  145.586807  138\n",
              "7   1390.png  162.727707  156\n",
              "8   1391.png  182.268143  180\n",
              "9   1394.png   92.945076   57\n",
              "10  1408.png  151.865936  126\n",
              "11  1409.png  161.396759  149\n",
              "12  1414.png   77.641220   78\n",
              "13  1417.png  170.345413  162\n",
              "14  1419.png  143.757156  126\n",
              "15  1420.png  126.845322   88\n",
              "16  1422.png   35.118450   32\n",
              "17  1424.png  130.857864  120\n",
              "18  1425.png  146.181519  156\n",
              "19  1426.png  105.893173   54"
            ]
          },
          "metadata": {
            "tags": []
          },
          "execution_count": 13
        }
      ]
    },
    {
      "cell_type": "code",
      "metadata": {
        "id": "q03_X2X255IV",
        "colab_type": "code",
        "colab": {
          "base_uri": "https://localhost:8080/",
          "height": 279
        },
        "outputId": "647ace89-a175-4628-c8e4-dd34e346ac58"
      },
      "source": [
        "# 최종 결과값과 예측값 비교 시각화\n",
        "import matplotlib.pyplot as plt\n",
        "\n",
        "plt.scatter(valid_generator.labels, predict, color='b', s=3)\n",
        "plt.plot(valid_generator.labels, valid_generator.labels, 'r')\n",
        "plt.xlabel(\"Answer\")\n",
        "plt.ylabel(\"Prediction\")\n",
        "plt.show()"
      ],
      "execution_count": null,
      "outputs": [
        {
          "output_type": "display_data",
          "data": {
            "image/png": "[encoded data removed]",
            "text/plain": [
              "<Figure size 432x288 with 1 Axes>"
            ]
          },
          "metadata": {
            "tags": [],
            "needs_background": "light"
          }
        }
      ]
    },
    {
      "cell_type": "code",
      "metadata": {
        "id": "2r30D3r0zRFr",
        "colab_type": "code",
        "colab": {}
      },
      "source": [
        ""
      ],
      "execution_count": null,
      "outputs": []
    }
  ]
}